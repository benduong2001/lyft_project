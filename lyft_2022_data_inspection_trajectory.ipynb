{
 "cells": [
  {
   "cell_type": "code",
   "execution_count": 1,
   "metadata": {},
   "outputs": [],
   "source": [
    "import numpy as np\n",
    "import pandas as pd\n",
    "import matplotlib.pyplot as plt\n",
    "import os"
   ]
  },
  {
   "cell_type": "code",
   "execution_count": 2,
   "metadata": {},
   "outputs": [
    {
     "data": {
      "text/plain": [
       "'C:\\\\Users\\\\Benson\\\\Desktop\\\\new_lyft_2022'"
      ]
     },
     "execution_count": 2,
     "metadata": {},
     "output_type": "execute_result"
    }
   ],
   "source": [
    "os.getcwd()"
   ]
  },
  {
   "cell_type": "code",
   "execution_count": 3,
   "metadata": {},
   "outputs": [],
   "source": [
    "FOLDERPATH = os.getcwd() +\"\\\\lyftlong\\\\\""
   ]
  },
  {
   "cell_type": "code",
   "execution_count": 4,
   "metadata": {},
   "outputs": [],
   "source": [
    "agents_df = pd.read_csv(FOLDERPATH + 'rand_agents_table0.csv')\n",
    "frame_df = pd.read_csv(FOLDERPATH + 'rand_frames_table1.csv')\n",
    "scene_df = pd.read_csv(FOLDERPATH + 'rand_scenes_table1.csv')"
   ]
  },
  {
   "cell_type": "code",
   "execution_count": 5,
   "metadata": {},
   "outputs": [],
   "source": [
    "lanes_df = pd.read_csv(FOLDERPATH+\"lanes_table0.csv\")"
   ]
  },
  {
   "cell_type": "code",
   "execution_count": 6,
   "metadata": {},
   "outputs": [
    {
     "data": {
      "text/plain": [
       "<matplotlib.colors.ListedColormap at 0x1728a1f6288>"
      ]
     },
     "execution_count": 6,
     "metadata": {},
     "output_type": "execute_result"
    }
   ],
   "source": [
    "cw_df_orig = pd.read_csv(FOLDERPATH + \"crosswalks_table0.csv\")\n",
    "cw_df = cw_df_orig.copy()\n",
    "\n",
    "import seaborn as sns\n",
    "sns.color_palette(\"rocket\", as_cmap=True)"
   ]
  },
  {
   "cell_type": "code",
   "execution_count": 7,
   "metadata": {},
   "outputs": [],
   "source": [
    "from sklearn.preprocessing import normalize"
   ]
  },
  {
   "cell_type": "code",
   "execution_count": 96,
   "metadata": {},
   "outputs": [],
   "source": [
    "from matplotlib.path import Path"
   ]
  },
  {
   "cell_type": "code",
   "execution_count": 8,
   "metadata": {},
   "outputs": [],
   "source": [
    "from PIL import Image\n",
    "Actual_roadmap = Image.open(FOLDERPATH + \"\\\\palo_alto_proper_blurred.png\").convert(\"L\")\n",
    "\n",
    "Actual_roadmap_arr = np.array(Actual_roadmap)\n",
    "\n",
    "#Actual_roadmap_arr[:,0] += 1285\n",
    "#Actual_roadmap_arr[:,1] += 2778\n",
    "\n",
    "def GET_ROADMAP_ADJUSTER_X():\n",
    "    return 1285\n",
    "def GET_ROADMAP_ADJUSTER_Y():\n",
    "    return 2770\n",
    "def VERTICES_ADJUSTMENT(row_vertices, SHIFT_X=None, SHIFT_Y=None):\n",
    "    # Either shifting to roadmap, or for agent\n",
    "    #print(row_vertices)\n",
    "    SHIFT_X = GET_ROADMAP_ADJUSTER_X()\n",
    "    SHIFT_Y = GET_ROADMAP_ADJUSTER_Y()\n",
    "    row_vertices[:,0] += SHIFT_X\n",
    "    row_vertices[:,1] += SHIFT_Y\n",
    "    return row_vertices"
   ]
  },
  {
   "cell_type": "markdown",
   "metadata": {},
   "source": [
    "### Data Cleaning\n",
    "* Proper obtainment of roadmap, and then blur, On-road column\n",
    "* Crosswalk\n",
    "* disance to ai-agents (does it need to be ai-agent?)\n",
    "* yaw dotprod with agents for other lane (only nearby)\n",
    "* trajectory intersection and geometry\n",
    "* Look for possible data errors:\n",
    "    * Extent x and y, wrt category:\n",
    "        * Federal length or width\n",
    "        * Length over width ratio\n",
    "    * Velocity: Incorrect or weird Outliers, wrt category\n",
    "    * Check if agents change in extent, category over period in a scene:\n",
    "        * account for category type\n",
    "        * account for frame appearance percentage (to see if droppable)\n",
    "        * account for distance from \"main\" agent (to see if droppable)\n",
    "        \n",
    "    * Check if agents change in category over period in a scene\n",
    "* removal necessary for , but see if it would overly affect the current data\n",
    "* drop one time cars? unless too important to scene\n",
    "* Data Imputation per scene track id of Unknown with Random Foresting, using speed, extents, onroad (post-cleaned)"
   ]
  },
  {
   "cell_type": "markdown",
   "metadata": {},
   "source": [
    "#### Prediction\n",
    "- Controllable Inputs\n",
    "    * Yaw (Angle)\n",
    "    * Magnitude\n",
    "\n",
    "\n",
    "- Non-Controllable Inputs\n",
    "    * Preceding History\n",
    "    * Location (onroad, off-road)\n",
    "    * Agent type\n",
    "    * Size?\n",
    "- Issue:\n",
    "    * How to aggregate variable inputs (cars?)"
   ]
  },
  {
   "cell_type": "code",
   "execution_count": 9,
   "metadata": {},
   "outputs": [],
   "source": [
    "from PIL import Image\n",
    "Actual_roadmap = Image.open(FOLDERPATH + \"\\\\palo_alto_proper_blurred.png\").convert(\"L\")"
   ]
  },
  {
   "cell_type": "code",
   "execution_count": 10,
   "metadata": {},
   "outputs": [
    {
     "data": {
      "text/plain": [
       "0.024935918497544767"
      ]
     },
     "execution_count": 10,
     "metadata": {},
     "output_type": "execute_result"
    }
   ],
   "source": [
    "lanes_df[\"lane_coord_z\"].std()/lanes_df[\"lane_coord_z\"].mean()"
   ]
  },
  {
   "cell_type": "code",
   "execution_count": 11,
   "metadata": {},
   "outputs": [],
   "source": [
    "lanes_df_arr = lanes_df[[\"lane_coord_x\",\"lane_coord_y\"]].values"
   ]
  },
  {
   "cell_type": "code",
   "execution_count": 12,
   "metadata": {},
   "outputs": [],
   "source": [
    "ACTUAL_ROADMAP_ARR = Actual_roadmap_arr * (1/255)\n",
    "ACTUAL_ROADMAP_ARR = 1- ACTUAL_ROADMAP_ARR\n",
    "ACTUAL_ROADMAP_ARR = ACTUAL_ROADMAP_ARR[::-1]"
   ]
  },
  {
   "cell_type": "code",
   "execution_count": 13,
   "metadata": {},
   "outputs": [
    {
     "data": {
      "text/plain": [
       "<matplotlib.image.AxesImage at 0x1728a780988>"
      ]
     },
     "execution_count": 13,
     "metadata": {},
     "output_type": "execute_result"
    },
    {
     "data": {
      "image/png": "[encoded data removed]",
      "text/plain": [
       "<Figure size 432x288 with 1 Axes>"
      ]
     },
     "metadata": {
      "needs_background": "light"
     },
     "output_type": "display_data"
    }
   ],
   "source": [
    "lanes_df_arr = VERTICES_ADJUSTMENT(lanes_df_arr)\n",
    "plt.scatter(lanes_df_arr[:,0],lanes_df_arr[:,1],s=0.05)\n",
    "plt.imshow(Actual_roadmap_arr[::-1],cmap=\"gray\")"
   ]
  },
  {
   "cell_type": "code",
   "execution_count": 14,
   "metadata": {},
   "outputs": [],
   "source": [
    "LANES_DF = lanes_df[[\"lane_coord_x\",\"lane_coord_y\"]].astype(int)"
   ]
  },
  {
   "cell_type": "code",
   "execution_count": 15,
   "metadata": {},
   "outputs": [],
   "source": [
    "def is_on_road(x, y):\n",
    "    # get shade (0 to 1) at pixel xy on the roadmap\n",
    "    return ACTUAL_ROADMAP_ARR[y][x]"
   ]
  },
  {
   "cell_type": "code",
   "execution_count": 16,
   "metadata": {},
   "outputs": [],
   "source": [
    "def configure_roadmap_lane_coords(X_ADJUSTMENT, Y_ADJUSTMENT):\n",
    "    \"\"\"\n",
    "    Will be used to find how well-aligned the roadmap and lane-coords are, in terms of our manual adjustments\n",
    "    Args:\n",
    "        X_ADJUSTMENT (float): x-axis translation of the lane coordinates\n",
    "        Y_ADJUSTMENT (float): y-axis translation of the lane coordinates\n",
    "    Returns:\n",
    "        Float showing alignment score\n",
    "    \"\"\"\n",
    "    alignment_scores = LANES_DF.apply(lambda df: is_on_road(\n",
    "        df[\"lane_coord_x\"]+X_ADJUSTMENT,\n",
    "        df[\"lane_coord_y\"]+Y_ADJUSTMENT), axis=1)\n",
    "    mean_alignment_score = alignment_scores.mean()\n",
    "    return mean_alignment_score"
   ]
  },
  {
   "cell_type": "code",
   "execution_count": 17,
   "metadata": {
    "scrolled": true
   },
   "outputs": [
    {
     "data": {
      "text/plain": [
       "0.7422405274041679"
      ]
     },
     "execution_count": 17,
     "metadata": {},
     "output_type": "execute_result"
    }
   ],
   "source": [
    "configure_roadmap_lane_coords(1285,2770)"
   ]
  },
  {
   "cell_type": "markdown",
   "metadata": {},
   "source": [
    "X_ADJUSTMENT_DOMAIN = np.arange(1283, 1287+1, 1)\n",
    "Y_ADJUSTMENT_DOMAIN = np.arange(2768, 2772+1, 1)\n",
    "\n",
    "X_ADJUSTMENTS = []\n",
    "Y_ADJUSTMENTS = []\n",
    "MEAN_ALIGNMENT_SCORES = []\n",
    "for X_ADJUSTMENT in X_ADJUSTMENT_DOMAIN:\n",
    "    for Y_ADJUSTMENT in Y_ADJUSTMENT_DOMAIN:\n",
    "        X_ADJUSTMENTS.append(X_ADJUSTMENT)\n",
    "        Y_ADJUSTMENTS.append(Y_ADJUSTMENT)\n",
    "        MEAN_ALIGNMENT_SCORE = configure_roadmap_lane_coords(X_ADJUSTMENT, Y_ADJUSTMENT)\n",
    "        MEAN_ALIGNMENT_SCORES.append(MEAN_ALIGNMENT_SCORE)\n",
    "        print(len(MEAN_ALIGNMENT_SCORES), X_ADJUSTMENT, Y_ADJUSTMENT, MEAN_ALIGNMENT_SCORE)\n",
    "\n",
    "#The optimal is x = 1285,  = 2770, giving the score: 0.7422405274041679\n",
    "\n",
    "configuration_adjustments_df = pd.DataFrame()\n",
    "configuration_adjustments_df[\"X_Adjust\"] = np.sort(np.tile(X_ADJUSTMENTS,(7)))\n",
    "configuration_adjustments_df[\"Y_Adjust\"] = Y_ADJUSTMENTS\n",
    "configuration_adjustments_df[\"Alignment_Score\"] = MEAN_ALIGNMENT_SCORES\n",
    "\n",
    "#configuration_adjustments_df.\n",
    "adjustments_heatmap = pd.pivot(configuration_adjustments_df, index=\"X_Adjust\",columns=\"Y_Adjust\",values=\"Alignment_Score\")\n",
    "\n",
    "\n",
    "adjustments_heatmap.style.background_gradient(cmap ='viridis')\\\n",
    "        .set_properties(**{'font-size': '20px'})"
   ]
  },
  {
   "cell_type": "code",
   "execution_count": 16,
   "metadata": {},
   "outputs": [],
   "source": [
    "def get_angle_with_drv_vector(x, y):\n",
    "    return 2*np.arctan(y/(x + np.sqrt((x**2) + (y**2))))\n",
    "\n",
    "# https://www.kaggle.com/competitions/lyft-motion-prediction-autonomous-vehicles/discussion/192304\n",
    "# each frame = 1/10 second #velocity is meters per second\n",
    "FPS_CONVERSION = 1/(0.1)\n",
    "frame_df[\"centroid_x\"] = frame_df[\"ego_translation_x\"].values\n",
    "frame_df[\"centroid_y\"] = frame_df[\"ego_translation_y\"].values\n",
    "velocity_x = (frame_df[\"ego_translation_x\"]-frame_df[\"ego_translation_x\"].shift(1)) * (FPS_CONVERSION)\n",
    "velocity_y = (frame_df[\"ego_translation_y\"]-frame_df[\"ego_translation_y\"].shift(1)) * (FPS_CONVERSION)\n",
    "boundary_indices = frame_df[\"scene_index\"].drop_duplicates().index\n",
    "#boundary_indices\n",
    "velocity_x.iloc[boundary_indices,] = np.nan\n",
    "velocity_y.iloc[boundary_indices,] = np.nan\n",
    "\n",
    "yaw = get_angle_with_drv_vector(velocity_x,velocity_y) # from -3.12 to 3.0\n",
    "EGO_EXTENT_WIDTH = 1.85\n",
    "EGO_EXTENT_LENGTH = 4.87\n",
    "EGO_EXTENT_HEIGHT = 1.8\n",
    "EGO_EXTENT_Y = EGO_EXTENT_WIDTH\n",
    "EGO_EXTENT_X = EGO_EXTENT_LENGTH\n",
    "EGO_EXTENT_Z = EGO_EXTENT_HEIGHT\n",
    "EGO_TRACK_ID = 0\n",
    "\n",
    "# we can make it 0, agents_df[\"track_id\"].min() is 1\n",
    "\n",
    "frame_df[\"velocity_x\"] = velocity_x\n",
    "frame_df[\"velocity_y\"] = velocity_y\n",
    "frame_df[\"yaw\"] = yaw\n",
    "frame_df[\"track_id\"] = EGO_TRACK_ID\n",
    "frame_df[\"extent_y\"] = EGO_EXTENT_Y\n",
    "frame_df[\"extent_x\"] = EGO_EXTENT_X\n",
    "frame_df[\"extent_z\"] = EGO_EXTENT_Z\n",
    "frame_df['PERCEPTION_LABEL_CAR'] = 1\n",
    "\n",
    "# revisit\n",
    "other_label_column_names_unused = ['PERCEPTION_LABEL_NOT_SET', 'PERCEPTION_LABEL_DONTCARE',\n",
    " 'PERCEPTION_LABEL_VAN', 'PERCEPTION_LABEL_TRAM', 'PERCEPTION_LABEL_BUS',\n",
    " 'PERCEPTION_LABEL_TRUCK', 'PERCEPTION_LABEL_EMERGENCY_VEHICLE',\n",
    " 'PERCEPTION_LABEL_OTHER_VEHICLE', 'PERCEPTION_LABEL_BICYCLE',\n",
    " 'PERCEPTION_LABEL_MOTORCYCLE',\n",
    " 'PERCEPTION_LABEL_MOTORCYCLIST', 'PERCEPTION_LABEL_ANIMAL', 'AVRESEARCH_LABEL_DONTCARE']\n",
    "\n",
    "other_label_column_names = []\n",
    "other_label_column_names += [\"PERCEPTION_LABEL_CYCLIST\",\"PERCEPTION_LABEL_UNKNOWN\",\"PERCEPTION_LABEL_PEDESTRIAN\"]\n",
    "other_label_column_names += other_label_column_names_unused\n",
    "for column_name in other_label_column_names:\n",
    "    frame_df[column_name] = 0\n",
    "\n",
    "\n",
    "\n",
    "frame_df_agentizedHostcar_joining_column_names = []\n",
    "frame_df_agentizedHostcar_joining_column_names += [\"centroid_x\"]\n",
    "frame_df_agentizedHostcar_joining_column_names += [\"centroid_y\"]\n",
    "frame_df_agentizedHostcar_joining_column_names += [\"velocity_x\"]\n",
    "frame_df_agentizedHostcar_joining_column_names += [\"velocity_y\"]\n",
    "frame_df_agentizedHostcar_joining_column_names += [\"yaw\"]\n",
    "frame_df_agentizedHostcar_joining_column_names += [\"track_id\"]\n",
    "frame_df_agentizedHostcar_joining_column_names += [\"extent_y\"]\n",
    "frame_df_agentizedHostcar_joining_column_names += [\"extent_x\"]\n",
    "frame_df_agentizedHostcar_joining_column_names += [\"extent_z\"]\n",
    "frame_df_agentizedHostcar_joining_column_names += [\"PERCEPTION_LABEL_CAR\"]\n",
    "frame_df_agentizedHostcar_joining_column_names += [\"scene_index\"]\n",
    "frame_df_agentizedHostcar_joining_column_names += [\"frame_index\"]\n",
    "frame_df_agentizedHostcar_joining_column_names += other_label_column_names\n",
    "\n",
    "frame_df_agentizedHostcar_joining = frame_df[frame_df_agentizedHostcar_joining_column_names]\n",
    "\n",
    "# Due to how velocity was calculated, there's a nan gap at 1st frames of scene, for certain columns\n",
    "# we will drop these rows, effectively removing the 1st frame from each scene\n",
    "temp_df = frame_df_agentizedHostcar_joining\n",
    "boundary_issue_column_names = []\n",
    "boundary_issue_column_names += [\"velocity_x\"]\n",
    "boundary_issue_column_names += [\"velocity_y\"]\n",
    "boundary_issue_column_names += [\"yaw\"]\n",
    "#temp_df = temp_df.dropna(subset=boundary_issue_column_names)\n",
    "temp_df = temp_df.fillna(method=\"ffill\")\n",
    "frame_df_agentizedHostcar_joining = temp_df\n",
    "\n",
    "scene_frame_agents_df_concat = []\n",
    "scene_frame_agents_df_concat += [agents_df.merge(frame_df[[\"frame_index\",\"scene_index\"]],on=[\"frame_index\"])]\n",
    "scene_frame_agents_df_concat += [frame_df_agentizedHostcar_joining]\n",
    "scene_frame_agents_df = pd.concat(scene_frame_agents_df_concat,axis=0)\n",
    "\n",
    "scene_frame_agents_df = scene_frame_agents_df.sort_values([\"scene_index\",\"frame_index\",\"track_id\"])"
   ]
  },
  {
   "cell_type": "code",
   "execution_count": 17,
   "metadata": {},
   "outputs": [],
   "source": [
    "scene_frame_agents_df_unneeded_column_names = []\n",
    "scene_frame_agents_df_unneeded_column_names += [\"extent_z\"]\n",
    "scene_frame_agents_df_unneeded_column_names += other_label_column_names_unused\n",
    "\n",
    "scene_frame_agents_df = scene_frame_agents_df.drop(columns= scene_frame_agents_df_unneeded_column_names)"
   ]
  },
  {
   "cell_type": "code",
   "execution_count": null,
   "metadata": {},
   "outputs": [],
   "source": [
    "temp_df = scene_frame_agents_df\n",
    "temp_df[\"is_on_road\"] = temp_df[[\"centroid_x\",\"centroid_y\"]].astype(int).apply(lambda df: is_on_road(\n",
    "        df[\"centroid_x\"]+GET_ROADMAP_ADJUSTER_X(),\n",
    "        df[\"centroid_y\"]+GET_ROADMAP_ADJUSTER_Y()), axis=1)\n",
    "scene_frame_agents_df = temp_df"
   ]
  },
  {
   "cell_type": "code",
   "execution_count": null,
   "metadata": {},
   "outputs": [],
   "source": [
    "#scene_frame_agents_df.to_csv(FOLDERPATH+\"scene_frame_agents_df_2022.csv\",index=False)"
   ]
  },
  {
   "cell_type": "markdown",
   "metadata": {},
   "source": [
    "### JUMP TO HERE"
   ]
  },
  {
   "cell_type": "code",
   "execution_count": 18,
   "metadata": {},
   "outputs": [],
   "source": [
    "scene_frame_agents_df = pd.read_csv(FOLDERPATH+\"scene_frame_agents_df_2022.csv\")"
   ]
  },
  {
   "cell_type": "code",
   "execution_count": 19,
   "metadata": {},
   "outputs": [
    {
     "data": {
      "text/html": [
       "<div>\n",
       "<style scoped>\n",
       "    .dataframe tbody tr th:only-of-type {\n",
       "        vertical-align: middle;\n",
       "    }\n",
       "\n",
       "    .dataframe tbody tr th {\n",
       "        vertical-align: top;\n",
       "    }\n",
       "\n",
       "    .dataframe thead th {\n",
       "        text-align: right;\n",
       "    }\n",
       "</style>\n",
       "<table border=\"1\" class=\"dataframe\">\n",
       "  <thead>\n",
       "    <tr style=\"text-align: right;\">\n",
       "      <th></th>\n",
       "      <th>centroid_x</th>\n",
       "      <th>centroid_y</th>\n",
       "      <th>extent_x</th>\n",
       "      <th>extent_y</th>\n",
       "      <th>velocity_x</th>\n",
       "      <th>velocity_y</th>\n",
       "      <th>yaw</th>\n",
       "      <th>track_id</th>\n",
       "      <th>PERCEPTION_LABEL_UNKNOWN</th>\n",
       "      <th>PERCEPTION_LABEL_CAR</th>\n",
       "      <th>PERCEPTION_LABEL_CYCLIST</th>\n",
       "      <th>PERCEPTION_LABEL_PEDESTRIAN</th>\n",
       "      <th>frame_index</th>\n",
       "      <th>scene_index</th>\n",
       "      <th>is_on_road</th>\n",
       "    </tr>\n",
       "  </thead>\n",
       "  <tbody>\n",
       "    <tr>\n",
       "      <th>0</th>\n",
       "      <td>-543.986938</td>\n",
       "      <td>904.397095</td>\n",
       "      <td>4.870000</td>\n",
       "      <td>1.850000</td>\n",
       "      <td>-7.902222</td>\n",
       "      <td>8.685608</td>\n",
       "      <td>2.309003</td>\n",
       "      <td>0</td>\n",
       "      <td>0.0</td>\n",
       "      <td>1.0</td>\n",
       "      <td>0.0</td>\n",
       "      <td>0.0</td>\n",
       "      <td>27814</td>\n",
       "      <td>112</td>\n",
       "      <td>0.313725</td>\n",
       "    </tr>\n",
       "    <tr>\n",
       "      <th>1</th>\n",
       "      <td>-551.432678</td>\n",
       "      <td>912.519104</td>\n",
       "      <td>4.876464</td>\n",
       "      <td>1.911275</td>\n",
       "      <td>0.000000</td>\n",
       "      <td>0.000000</td>\n",
       "      <td>-0.838672</td>\n",
       "      <td>1</td>\n",
       "      <td>0.0</td>\n",
       "      <td>1.0</td>\n",
       "      <td>0.0</td>\n",
       "      <td>0.0</td>\n",
       "      <td>27814</td>\n",
       "      <td>112</td>\n",
       "      <td>0.196078</td>\n",
       "    </tr>\n",
       "    <tr>\n",
       "      <th>2</th>\n",
       "      <td>-539.526184</td>\n",
       "      <td>915.301514</td>\n",
       "      <td>4.519358</td>\n",
       "      <td>1.827863</td>\n",
       "      <td>0.000000</td>\n",
       "      <td>0.000000</td>\n",
       "      <td>-0.824665</td>\n",
       "      <td>2</td>\n",
       "      <td>0.0</td>\n",
       "      <td>1.0</td>\n",
       "      <td>0.0</td>\n",
       "      <td>0.0</td>\n",
       "      <td>27814</td>\n",
       "      <td>112</td>\n",
       "      <td>0.945098</td>\n",
       "    </tr>\n",
       "    <tr>\n",
       "      <th>3</th>\n",
       "      <td>-522.900513</td>\n",
       "      <td>892.094666</td>\n",
       "      <td>4.532728</td>\n",
       "      <td>1.837899</td>\n",
       "      <td>0.000000</td>\n",
       "      <td>0.000000</td>\n",
       "      <td>-0.818223</td>\n",
       "      <td>3</td>\n",
       "      <td>0.0</td>\n",
       "      <td>1.0</td>\n",
       "      <td>0.0</td>\n",
       "      <td>0.0</td>\n",
       "      <td>27814</td>\n",
       "      <td>112</td>\n",
       "      <td>0.788235</td>\n",
       "    </tr>\n",
       "    <tr>\n",
       "      <th>4</th>\n",
       "      <td>-530.089539</td>\n",
       "      <td>872.185425</td>\n",
       "      <td>4.555241</td>\n",
       "      <td>1.811958</td>\n",
       "      <td>0.000000</td>\n",
       "      <td>0.000000</td>\n",
       "      <td>0.559300</td>\n",
       "      <td>4</td>\n",
       "      <td>0.0</td>\n",
       "      <td>1.0</td>\n",
       "      <td>0.0</td>\n",
       "      <td>0.0</td>\n",
       "      <td>27814</td>\n",
       "      <td>112</td>\n",
       "      <td>0.901961</td>\n",
       "    </tr>\n",
       "    <tr>\n",
       "      <th>...</th>\n",
       "      <td>...</td>\n",
       "      <td>...</td>\n",
       "      <td>...</td>\n",
       "      <td>...</td>\n",
       "      <td>...</td>\n",
       "      <td>...</td>\n",
       "      <td>...</td>\n",
       "      <td>...</td>\n",
       "      <td>...</td>\n",
       "      <td>...</td>\n",
       "      <td>...</td>\n",
       "      <td>...</td>\n",
       "      <td>...</td>\n",
       "      <td>...</td>\n",
       "      <td>...</td>\n",
       "    </tr>\n",
       "    <tr>\n",
       "      <th>1975075</th>\n",
       "      <td>-1012.042969</td>\n",
       "      <td>1433.786743</td>\n",
       "      <td>3.350825</td>\n",
       "      <td>1.283732</td>\n",
       "      <td>0.000000</td>\n",
       "      <td>0.000000</td>\n",
       "      <td>-0.778701</td>\n",
       "      <td>988</td>\n",
       "      <td>0.0</td>\n",
       "      <td>1.0</td>\n",
       "      <td>0.0</td>\n",
       "      <td>0.0</td>\n",
       "      <td>3969525</td>\n",
       "      <td>15982</td>\n",
       "      <td>0.000000</td>\n",
       "    </tr>\n",
       "    <tr>\n",
       "      <th>1975076</th>\n",
       "      <td>-1014.040405</td>\n",
       "      <td>1443.542725</td>\n",
       "      <td>0.764975</td>\n",
       "      <td>1.259111</td>\n",
       "      <td>0.000000</td>\n",
       "      <td>0.000000</td>\n",
       "      <td>2.381792</td>\n",
       "      <td>989</td>\n",
       "      <td>0.0</td>\n",
       "      <td>1.0</td>\n",
       "      <td>0.0</td>\n",
       "      <td>0.0</td>\n",
       "      <td>3969525</td>\n",
       "      <td>15982</td>\n",
       "      <td>0.000000</td>\n",
       "    </tr>\n",
       "    <tr>\n",
       "      <th>1975077</th>\n",
       "      <td>-1030.072998</td>\n",
       "      <td>1459.969238</td>\n",
       "      <td>1.584556</td>\n",
       "      <td>1.274177</td>\n",
       "      <td>0.000000</td>\n",
       "      <td>0.000000</td>\n",
       "      <td>2.405967</td>\n",
       "      <td>990</td>\n",
       "      <td>0.0</td>\n",
       "      <td>1.0</td>\n",
       "      <td>0.0</td>\n",
       "      <td>0.0</td>\n",
       "      <td>3969525</td>\n",
       "      <td>15982</td>\n",
       "      <td>0.000000</td>\n",
       "    </tr>\n",
       "    <tr>\n",
       "      <th>1975078</th>\n",
       "      <td>-949.636292</td>\n",
       "      <td>1391.866455</td>\n",
       "      <td>0.874429</td>\n",
       "      <td>0.437873</td>\n",
       "      <td>0.000000</td>\n",
       "      <td>0.000000</td>\n",
       "      <td>-0.000034</td>\n",
       "      <td>991</td>\n",
       "      <td>1.0</td>\n",
       "      <td>0.0</td>\n",
       "      <td>0.0</td>\n",
       "      <td>0.0</td>\n",
       "      <td>3969525</td>\n",
       "      <td>15982</td>\n",
       "      <td>1.000000</td>\n",
       "    </tr>\n",
       "    <tr>\n",
       "      <th>1975079</th>\n",
       "      <td>-954.059875</td>\n",
       "      <td>1395.987915</td>\n",
       "      <td>13.299165</td>\n",
       "      <td>6.217451</td>\n",
       "      <td>0.000000</td>\n",
       "      <td>0.000000</td>\n",
       "      <td>1.122774</td>\n",
       "      <td>992</td>\n",
       "      <td>1.0</td>\n",
       "      <td>0.0</td>\n",
       "      <td>0.0</td>\n",
       "      <td>0.0</td>\n",
       "      <td>3969525</td>\n",
       "      <td>15982</td>\n",
       "      <td>1.000000</td>\n",
       "    </tr>\n",
       "  </tbody>\n",
       "</table>\n",
       "<p>1975080 rows × 15 columns</p>\n",
       "</div>"
      ],
      "text/plain": [
       "          centroid_x   centroid_y   extent_x  extent_y  velocity_x  \\\n",
       "0        -543.986938   904.397095   4.870000  1.850000   -7.902222   \n",
       "1        -551.432678   912.519104   4.876464  1.911275    0.000000   \n",
       "2        -539.526184   915.301514   4.519358  1.827863    0.000000   \n",
       "3        -522.900513   892.094666   4.532728  1.837899    0.000000   \n",
       "4        -530.089539   872.185425   4.555241  1.811958    0.000000   \n",
       "...              ...          ...        ...       ...         ...   \n",
       "1975075 -1012.042969  1433.786743   3.350825  1.283732    0.000000   \n",
       "1975076 -1014.040405  1443.542725   0.764975  1.259111    0.000000   \n",
       "1975077 -1030.072998  1459.969238   1.584556  1.274177    0.000000   \n",
       "1975078  -949.636292  1391.866455   0.874429  0.437873    0.000000   \n",
       "1975079  -954.059875  1395.987915  13.299165  6.217451    0.000000   \n",
       "\n",
       "         velocity_y       yaw  track_id  PERCEPTION_LABEL_UNKNOWN  \\\n",
       "0          8.685608  2.309003         0                       0.0   \n",
       "1          0.000000 -0.838672         1                       0.0   \n",
       "2          0.000000 -0.824665         2                       0.0   \n",
       "3          0.000000 -0.818223         3                       0.0   \n",
       "4          0.000000  0.559300         4                       0.0   \n",
       "...             ...       ...       ...                       ...   \n",
       "1975075    0.000000 -0.778701       988                       0.0   \n",
       "1975076    0.000000  2.381792       989                       0.0   \n",
       "1975077    0.000000  2.405967       990                       0.0   \n",
       "1975078    0.000000 -0.000034       991                       1.0   \n",
       "1975079    0.000000  1.122774       992                       1.0   \n",
       "\n",
       "         PERCEPTION_LABEL_CAR  PERCEPTION_LABEL_CYCLIST  \\\n",
       "0                         1.0                       0.0   \n",
       "1                         1.0                       0.0   \n",
       "2                         1.0                       0.0   \n",
       "3                         1.0                       0.0   \n",
       "4                         1.0                       0.0   \n",
       "...                       ...                       ...   \n",
       "1975075                   1.0                       0.0   \n",
       "1975076                   1.0                       0.0   \n",
       "1975077                   1.0                       0.0   \n",
       "1975078                   0.0                       0.0   \n",
       "1975079                   0.0                       0.0   \n",
       "\n",
       "         PERCEPTION_LABEL_PEDESTRIAN  frame_index  scene_index  is_on_road  \n",
       "0                                0.0        27814          112    0.313725  \n",
       "1                                0.0        27814          112    0.196078  \n",
       "2                                0.0        27814          112    0.945098  \n",
       "3                                0.0        27814          112    0.788235  \n",
       "4                                0.0        27814          112    0.901961  \n",
       "...                              ...          ...          ...         ...  \n",
       "1975075                          0.0      3969525        15982    0.000000  \n",
       "1975076                          0.0      3969525        15982    0.000000  \n",
       "1975077                          0.0      3969525        15982    0.000000  \n",
       "1975078                          0.0      3969525        15982    1.000000  \n",
       "1975079                          0.0      3969525        15982    1.000000  \n",
       "\n",
       "[1975080 rows x 15 columns]"
      ]
     },
     "execution_count": 19,
     "metadata": {},
     "output_type": "execute_result"
    }
   ],
   "source": [
    "scene_frame_agents_df"
   ]
  },
  {
   "cell_type": "code",
   "execution_count": null,
   "metadata": {},
   "outputs": [],
   "source": []
  },
  {
   "cell_type": "code",
   "execution_count": null,
   "metadata": {},
   "outputs": [],
   "source": []
  },
  {
   "cell_type": "code",
   "execution_count": null,
   "metadata": {},
   "outputs": [],
   "source": []
  },
  {
   "cell_type": "code",
   "execution_count": 20,
   "metadata": {},
   "outputs": [],
   "source": [
    "from matplotlib.patches import Polygon\n",
    "import matplotlib.pyplot as plt"
   ]
  },
  {
   "cell_type": "code",
   "execution_count": 21,
   "metadata": {},
   "outputs": [],
   "source": [
    "from matplotlib import collections  as mc\n",
    "from matplotlib.collections import PolyCollection"
   ]
  },
  {
   "cell_type": "markdown",
   "metadata": {},
   "source": [
    "* Interactive Animation\n",
    "* Background Roadmap, properly configured~?\n",
    "* lanes, and crosswalks ~~\n",
    "* Polygons~~\n",
    "* Vector Trajectories~~\n",
    "* Color distinguishment of diff categories~~ (pre-imputed)\n",
    "* Anchored at given track_id (ideally the ai) ~~\n",
    "* Colored Anchored track_id ~~\n",
    "* or Cluster"
   ]
  },
  {
   "cell_type": "code",
   "execution_count": 22,
   "metadata": {},
   "outputs": [],
   "source": [
    "def get_scaling_matrix(ex,ey):\n",
    "    scaling_matrix = np.array(\n",
    "        [[ex,  0],\n",
    "         [ 0, ey]]\n",
    "    )\n",
    "    return scaling_matrix\n",
    "\n",
    "# https://i.stack.imgur.com/mAexq.jpg COUNTER CLOCKWISE\n",
    "def get_rotation_matrix(yaw):\n",
    "    t = yaw\n",
    "    rotation_matrix = np.array(\n",
    "        [[ np.cos(t),-np.sin(t)],\n",
    "         [ np.sin(t), np.cos(t)]]\n",
    "    )\n",
    "    return rotation_matrix"
   ]
  },
  {
   "cell_type": "code",
   "execution_count": 23,
   "metadata": {},
   "outputs": [],
   "source": [
    "\n",
    "# corner points = 4 by 2\n",
    "def polyroad_visualizer(cx,cy,dx,dy,ex,ey,yaw):\n",
    "    \"\"\"\n",
    "    Outputs a dictionary that helps to visualize an agent in a frame, including polygon, trajectory.\n",
    "    Args:\n",
    "        cx (float): centroid_x\n",
    "        cy (float): centroid_y\n",
    "        dx (float): velocity_x\n",
    "        dy (float): velocity_y        \n",
    "        dx (float): extent_x\n",
    "        dy (float): extent_y\n",
    "        yaw (float): Radians. From -3.14 to +3.14\n",
    "    Returns:\n",
    "        Dictionary with inputs for ax.plot\n",
    "    \"\"\"\n",
    "    corners = np.array(\n",
    "        [[0, 0],\n",
    "         [0,1],\n",
    "         [1,1],\n",
    "         [1,0]]\n",
    "    ).astype(float)\n",
    "\n",
    "    #corners[:, 0] -= (1/2)\n",
    "    #corners[:, 1] -= (1/2)\n",
    "\n",
    "    corners = corners @ get_scaling_matrix(ex, ey)\n",
    "\n",
    "    corners[:, 0] -= (ex/2)\n",
    "    corners[:, 1] -= (ey/2)\n",
    "\n",
    "    corners = corners @ get_rotation_matrix(yaw)\n",
    "\n",
    "    corners[:, 0] += cx\n",
    "    corners[:, 1] += cy\n",
    "\n",
    "    # polygon: for looped\n",
    "    # trajectory: for looped\n",
    "    # polygon corner scatterplot: arrayed\n",
    "\n",
    "    start_point = np.array([0,0])\n",
    "    end_point = np.array([dx,dy])\n",
    "    magnitude = 1\n",
    "    end_point = magnitude*end_point\n",
    "    base_vect = np.array([start_point,end_point])\n",
    "\n",
    "    base_vect[:,0] += cx\n",
    "    base_vect[:,1] += cy\n",
    "\n",
    "    results_dict = dict()\n",
    "\n",
    "    points = []\n",
    "    # 3rd column for type of point\n",
    "    # 0 = polygon reconstruction; 1 = centroid; 2 = \n",
    "    THIRD_COL_NAME = 2\n",
    "    corners_with_col = np.vstack([(corners).T]+ [np.zeros(corners.shape[0])]).T # corners with a 3rd column\n",
    "    points += list(corners_with_col)\n",
    "    \n",
    "    base_vect_with_col = np.vstack([(base_vect).T]+ [np.ones(base_vect.shape[0])]).T # base_vect with a 3rd column\n",
    "    points += list(base_vect_with_col)\n",
    "    \n",
    "    centroid_with_col = [[cx,cy] + [THIRD_COL_NAME]]\n",
    "    points += centroid_with_col\n",
    "\n",
    "    polygon = Polygon(corners,facecolor=(0, 1, 0, 0.5))\n",
    "\n",
    "    results_dict[\"lines (endpoints)\"] = base_vect\n",
    "    # ^ for loop, ax.plot(*(base_vect.T))\n",
    "    results_dict[\"points\"] = points\n",
    "    # ^ array, x.scatter(points[:,0],points[:,1],s=2,c=\"red\",alpha=0.2)\n",
    "    results_dict[\"polygons\"] = corners\n",
    "    # ^ for loop, ax.add_patch(polygon)\n",
    "    # \n",
    "\n",
    "    return results_dict"
   ]
  },
  {
   "cell_type": "code",
   "execution_count": 24,
   "metadata": {},
   "outputs": [],
   "source": [
    "def VERTICES_ADJUSTMENT(row_vertices, SHIFT_X=None, SHIFT_Y=None):\n",
    "    # Either shifting to roadmap, or for agent\n",
    "    #print(row_vertices)\n",
    "    SHIFT_X = GET_ROADMAP_ADJUSTER_X()\n",
    "    SHIFT_Y = GET_ROADMAP_ADJUSTER_Y()\n",
    "    row_vertices[:,0] += SHIFT_X\n",
    "    row_vertices[:,1] += SHIFT_Y\n",
    "    return row_vertices"
   ]
  },
  {
   "cell_type": "code",
   "execution_count": 25,
   "metadata": {},
   "outputs": [],
   "source": [
    "def get_polyroad_visualizer_dict(agents_temp_frame: pd.DataFrame) -> dict:\n",
    "    agents_temp_frame_results = agents_temp_frame.apply(lambda df:\n",
    "                                                        polyroad_visualizer(\n",
    "                                                            df[\"centroid_x\"],\n",
    "                                                            df[\"centroid_y\"],\n",
    "                                                            df[\"velocity_x\"],\n",
    "                                                            df[\"velocity_x\"],\n",
    "                                                            df[\"extent_y\"],\n",
    "                                                            df[\"extent_x\"],\n",
    "                                                            df[\"yaw\"]\n",
    "                                                        ), axis=1)\n",
    "    return agents_temp_frame_results"
   ]
  },
  {
   "cell_type": "code",
   "execution_count": 26,
   "metadata": {},
   "outputs": [],
   "source": [
    "def get_polyroad_visualizer_elements(agents_temp_frame_results: dict) -> dict:\n",
    "    trajectories = []\n",
    "    points = []\n",
    "    agent_polygons = []\n",
    "\n",
    "    for i in range(agents_temp_frame_results.shape[0]):\n",
    "        row = list(agents_temp_frame_results)[i]\n",
    "        row_end_points = row[\"lines (endpoints)\"]\n",
    "        row_vertices = row_end_points\n",
    "        row_vertices = VERTICES_ADJUSTMENT(row_vertices)\n",
    "        row_end_points = row_vertices\n",
    "        row_end_points = [tuple(pt) for pt in row_end_points]\n",
    "        trajectories.append(row_end_points)\n",
    "\n",
    "        row_polygons = row[\"polygons\"]\n",
    "        row_vertices = row_polygons\n",
    "        row_vertices = VERTICES_ADJUSTMENT(row_vertices)\n",
    "        row_polygons = row_vertices\n",
    "        agent_polygons.append(row_polygons)\n",
    "\n",
    "        row_points = np.array(row[\"points\"])\n",
    "        row_vertices = row_points\n",
    "        row_vertices = VERTICES_ADJUSTMENT(row_vertices)\n",
    "        row_points = list(row_vertices)\n",
    "        points += row_points\n",
    "    points = np.array(points)\n",
    "    agent_polygons = np.array(agent_polygons)\n",
    "    \n",
    "    polyroad_visualizer_elements_dict = dict()\n",
    "    polyroad_visualizer_elements_dict[\"trajectory\"] = trajectories\n",
    "    polyroad_visualizer_elements_dict[\"points\"] = points\n",
    "    polyroad_visualizer_elements_dict[\"agent_polygons\"] = agent_polygons\n",
    "\n",
    "    return polyroad_visualizer_elements_dict\n"
   ]
  },
  {
   "cell_type": "code",
   "execution_count": 27,
   "metadata": {},
   "outputs": [],
   "source": [
    "# optional: categ coloring\n",
    "# input is agents_temp_frame\n",
    "ANCHOR_AGENT_TRACK_ID = 0\n",
    "\n",
    "def categ_colorizer(agents_temp_frame):\n",
    "    used_entity_types_column_names = []\n",
    "    # these column_names might be different in the future, or even fewer\n",
    "    used_entity_types_column_names += ['PERCEPTION_LABEL_UNKNOWN']\n",
    "    used_entity_types_column_names += ['PERCEPTION_LABEL_CAR']\n",
    "    used_entity_types_column_names += ['PERCEPTION_LABEL_CYCLIST']\n",
    "    used_entity_types_column_names += ['PERCEPTION_LABEL_PEDESTRIAN']\n",
    "\n",
    "    possible_entity_types = np.argmax(agents_temp_frame[used_entity_types_column_names].values,axis=1)\n",
    "    rgb_cols = np.vstack([np.eye(3)]+[[1,1,0]])\n",
    "\n",
    "    possible_entity_types_ohe = [tuple(list(rgb_cols[x]) +[0.5]) for x in possible_entity_types]\n",
    "\n",
    "    # coloring for the anchor agent\n",
    "\n",
    "    ANCHOR_AGENT_TRACK_ID = 0\n",
    "    anchor_agent_index = np.where(agents_temp_frame[\"track_id\"]==ANCHOR_AGENT_TRACK_ID)[0][0]\n",
    "    possible_entity_types_ohe[anchor_agent_index] = (0.0, 1.0, 1.0, 0.5)\n",
    "    return possible_entity_types_ohe"
   ]
  },
  {
   "cell_type": "code",
   "execution_count": 28,
   "metadata": {},
   "outputs": [],
   "source": [
    "# optional: centering\n",
    "# input is agents_temp_frame or Point (if low agg) OR Scene (needs high agg) \n",
    "# or WITH ANCHOR ID (does not need high agg), needs much work if agent ai\n",
    "def visualization_dimensions(agents_temp_frame):\n",
    "    anchor_agent_centroid_x = agents_temp_frame[agents_temp_frame[\"track_id\"]==ANCHOR_AGENT_TRACK_ID][\"centroid_x\"].values[0]\n",
    "    anchor_agent_centroid_y = agents_temp_frame[agents_temp_frame[\"track_id\"]==ANCHOR_AGENT_TRACK_ID][\"centroid_y\"].values[0]\n",
    "\n",
    "    anchor_agent_scope = 75\n",
    "    xlim_lower = anchor_agent_centroid_x+GET_ROADMAP_ADJUSTER_X() - anchor_agent_scope\n",
    "    xlim_upper = anchor_agent_centroid_x+GET_ROADMAP_ADJUSTER_X() + anchor_agent_scope\n",
    "    ylim_lower = anchor_agent_centroid_y+GET_ROADMAP_ADJUSTER_Y() - anchor_agent_scope\n",
    "    ylim_upper = anchor_agent_centroid_y+GET_ROADMAP_ADJUSTER_Y() + anchor_agent_scope\n",
    "    return xlim_lower,xlim_upper,ylim_lower,ylim_upper#=visualization_dimensions(agents_temp_frame)"
   ]
  },
  {
   "cell_type": "code",
   "execution_count": 29,
   "metadata": {},
   "outputs": [],
   "source": [
    "def plot_cw(cw_df,i,ax):\n",
    "    cw_df_coords = cw_df[cw_df.cw_id == float(i)][['cw_coord_x', 'cw_coord_y']].to_numpy()\n",
    "    colors = np.arange(0, len(cw_df_coords))\n",
    "    cw_df_coords_x = cw_df_coords[:,0]+GET_ROADMAP_ADJUSTER_X()\n",
    "    cw_df_coords_y = cw_df_coords[:,1]+GET_ROADMAP_ADJUSTER_Y()\n",
    "    \n",
    "    cw_df_coords_x = np.append(cw_df_coords_x, list(cw_df_coords_x)[0])\n",
    "    cw_df_coords_y = np.append(cw_df_coords_y, list(cw_df_coords_y)[0])\n",
    "    ax = ax.plot(cw_df_coords_x, cw_df_coords_y,color=\"pink\")\n",
    "    # sns.scatterplot(x=cw_df_coords_x, y=cw_df_coords_y, hue=colors)"
   ]
  },
  {
   "cell_type": "code",
   "execution_count": 30,
   "metadata": {},
   "outputs": [],
   "source": [
    "def finalize_wheel_matrix(wheel_matrix):\n",
    "    anchor_agent_yaw = agents_temp_frame[agents_temp_frame[\"track_id\"]==ANCHOR_AGENT_TRACK_ID][\"yaw\"].values[0]\n",
    "    anchor_agent_centroid_x = agents_temp_frame[agents_temp_frame[\"track_id\"]==ANCHOR_AGENT_TRACK_ID][\"centroid_x\"].values[0]\n",
    "    anchor_agent_centroid_y = agents_temp_frame[agents_temp_frame[\"track_id\"]==ANCHOR_AGENT_TRACK_ID][\"centroid_y\"].values[0]\n",
    "\n",
    "    wheel_matrix_tilter = get_rotation_matrix(anchor_agent_yaw)\n",
    "    wheel_matrix = wheel_matrix @ wheel_matrix_tilter\n",
    "\n",
    "    wheel_matrix[:,0] += anchor_agent_centroid_x + GET_ROADMAP_ADJUSTER_X()\n",
    "    wheel_matrix[:,1] += anchor_agent_centroid_y + GET_ROADMAP_ADJUSTER_Y()\n",
    "\n",
    "    # now including those points\n",
    "    wheel_matrix_base_point = (anchor_agent_centroid_x + GET_ROADMAP_ADJUSTER_X(),\n",
    "                               anchor_agent_centroid_y + GET_ROADMAP_ADJUSTER_Y())\n",
    "\n",
    "    wheel_matrix_base_points = [wheel_matrix_base_point for _ in range(N)]\n",
    "\n",
    "    wheel_matrix1 = np.array(list(zip(wheel_matrix_base_points,[tuple(x) for x in np.array(wheel_matrix)])))\n",
    "\n",
    "    wheel_matrix1 = [[tuple(j) for j in i] for i in wheel_matrix1]\n",
    "    return wheel_matrix1"
   ]
  },
  {
   "cell_type": "code",
   "execution_count": 83,
   "metadata": {},
   "outputs": [],
   "source": [
    "def getSliceAverageDotProduct(agents_temp_frame,pathObj, central_spoke_vector):\n",
    "    possible_points = agents_temp_frame[[\"centroid_x\",\"centroid_y\"]].values\n",
    "    possible_points[:,0] += GET_ROADMAP_ADJUSTER_X()\n",
    "    possible_points[:,1] += GET_ROADMAP_ADJUSTER_Y()\n",
    "    slicePointsBooleanMask = pathObj.contains_points(possible_points)\n",
    "    slicePointsVelocityVectors = agents_temp_frame[slicePointsBooleanMask][[\"velocity_x\",\"velocity_y\"]].values\n",
    "    slicePointsVelocityVectors = (normalize(slicePointsVelocityVectors,axis=1,norm=\"l2\"))\n",
    "    \n",
    "    #print(central_spoke_vector)\n",
    "    slicePointsCentralVector = (normalize(np.array([central_spoke_vector]),norm=\"l2\"))\n",
    "\n",
    "    sliceAverageDotProducts = (slicePointsVelocityVectors @ slicePointsCentralVector.T).mean()\n",
    "    return sliceAverageDotProducts"
   ]
  },
  {
   "cell_type": "code",
   "execution_count": 117,
   "metadata": {},
   "outputs": [],
   "source": [
    "# for each slice, keyed by i and the central spoke vector:\n",
    "# get a mask_index of all agents (centroid_x, centroid_y) in the frame that fall inside the slice\n",
    "# for each matching agent, do a normalized dot product with them all, average the result\n",
    "# \n",
    "def get_slicing_results_dict(slice_amount,wheel_matrix2,agents_temp_frame):\n",
    "    angle_groups = []\n",
    "    current_spoke_vectors = []\n",
    "    central_spoke_vectors = []\n",
    "    verts = []\n",
    "    codes = []\n",
    "    pathObjs = []\n",
    "    alternating_colors = []\n",
    "    sliceAverageDotProducts = []\n",
    "\n",
    "    N = slice_amount\n",
    "\n",
    "    for i in range(slice_amount):\n",
    "        #i = 0\n",
    "        current_spoke_vector = wheel_matrix2[i]\n",
    "        adjacent_spoke_vector = wheel_matrix2[(i+1)%(len(wheel_matrix2))] # resets to the first row if current spoke is the last\n",
    "        #print(current_spoke_vector)\n",
    "        #print(adjacent_spoke_vector)\n",
    "        central_spoke_vector = (np.array(wheel_matrix2[i][-1]) @  get_rotation_matrix(np.pi/(N)).T) # revisit this np.pi/N, sloppy constant\n",
    "        #print(central_spoke_vector)\n",
    "        point_1 = current_spoke_vector[-1]\n",
    "        point_2 = current_spoke_vector[0] # or adja_spoke[0]; it's just the middle point, same for all spokes.\n",
    "        point_3 = adjacent_spoke_vector[-1]\n",
    "        point_4 = current_spoke_vector[-1]\n",
    "        vert = [point_1, point_2, point_3,point_4]\n",
    "        vert = [tuple(x) for x in vert]\n",
    "\n",
    "        code = [\n",
    "            Path.MOVETO,\n",
    "            Path.LINETO,\n",
    "            Path.LINETO,\n",
    "            Path.CLOSEPOLY,\n",
    "        ]\n",
    "        pathObj = Path(vert,code)\n",
    "\n",
    "        sliceAverageDotProduct = getSliceAverageDotProduct(agents_temp_frame,pathObj, central_spoke_vector)\n",
    "        \n",
    "        OPACITY = 1 \n",
    "        OPACITY *= ((sliceAverageDotProduct)+1)/2 # from -1 to 1, now to 0 to 1\n",
    "        #alternating_color = (1*((i+1)%2==0),1*((i+1)%2!=0),0,OPACITY) # for i in range(slice_amount)]\n",
    "        alternating_color = (1,0,1,OPACITY) # for i in range(slice_amount)]\n",
    "        angle_groups.append(i)\n",
    "        current_spoke_vectors.append(current_spoke_vector)\n",
    "        central_spoke_vectors.append(central_spoke_vector)\n",
    "        verts.append(vert)\n",
    "        codes.append(code)\n",
    "        pathObjs.append(pathObj)\n",
    "        sliceAverageDotProducts.append(sliceAverageDotProduct)\n",
    "        alternating_colors.append(alternating_color)\n",
    "\n",
    "    slicing_results_dict = dict()\n",
    "    slicing_results_dict[\"angle_groups\"] = angle_groups\n",
    "    slicing_results_dict[\"current_spoke_vectors\"] = current_spoke_vectors\n",
    "    slicing_results_dict[\"central_spoke_vectors\"] = central_spoke_vectors\n",
    "    slicing_results_dict[\"verts\"] = verts\n",
    "    slicing_results_dict[\"codes\"] = codes\n",
    "    slicing_results_dict[\"pathObjs\"] = pathObjs\n",
    "    slicing_results_dict[\"alternating_colors\"] = alternating_colors\n",
    "    slicing_results_dict[\"sliceAverageDotProducts\"] = sliceAverageDotProducts\n",
    "    \n",
    "    return slicing_results_dict\n",
    "def get_slicing_results_dict_NO_VISUALS(slice_amount,wheel_matrix2,agents_temp_frame):\n",
    "    #angle_groups = []\n",
    "    central_spoke_vectors = []\n",
    "    sliceAverageDotProducts = []\n",
    "\n",
    "    N = slice_amount\n",
    "\n",
    "    for i in range(slice_amount):\n",
    "        #i = 0\n",
    "        current_spoke_vector = wheel_matrix2[i]\n",
    "        adjacent_spoke_vector = wheel_matrix2[(i+1)%(len(wheel_matrix2))] # resets to the first row if current spoke is the last\n",
    "        central_spoke_vector = (np.array(wheel_matrix2[i][-1]) @  get_rotation_matrix(np.pi/(N)).T) # revisit this np.pi/N, sloppy constant\n",
    "        point_1 = current_spoke_vector[-1]\n",
    "        point_2 = current_spoke_vector[0] # or adja_spoke[0]; it's just the middle point, same for all spokes.\n",
    "        point_3 = adjacent_spoke_vector[-1]\n",
    "        point_4 = current_spoke_vector[-1]\n",
    "        vert = [point_1, point_2, point_3,point_4]\n",
    "        vert = [tuple(x) for x in vert]\n",
    "\n",
    "        code = [\n",
    "            Path.MOVETO,\n",
    "            Path.LINETO,\n",
    "            Path.LINETO,\n",
    "            Path.CLOSEPOLY,\n",
    "        ]\n",
    "        pathObj = Path(vert,code)\n",
    "\n",
    "        sliceAverageDotProduct = getSliceAverageDotProduct(agents_temp_frame,pathObj, central_spoke_vector)        \n",
    "        central_spoke_vectors.append(central_spoke_vector)\n",
    "        sliceAverageDotProducts.append(sliceAverageDotProduct)\n",
    "\n",
    "    slicing_results_dict = dict()\n",
    "    #slicing_results_dict[\"angle_groups\"] = angle_groups\n",
    "    slicing_results_dict[\"central_spoke_vectors\"] = central_spoke_vectors\n",
    "    slicing_results_dict[\"sliceAverageDotProducts\"] = sliceAverageDotProducts\n",
    "    \n",
    "    return slicing_results_dict"
   ]
  },
  {
   "cell_type": "code",
   "execution_count": 118,
   "metadata": {},
   "outputs": [],
   "source": [
    "def data_inspect(scene_frame_agents_df,frame_index_temp):\n",
    "\n",
    "    temp_df = scene_frame_agents_df\n",
    "    agents_temp_frame = temp_df[temp_df[\"frame_index\"]==frame_index_temp]\n",
    "    #### \n",
    "    # useless stuff for visualizations\n",
    "    possible_entity_types_ohe = categ_colorizer(agents_temp_frame)\n",
    "    polyroad_visualizer_dict = get_polyroad_visualizer_dict(agents_temp_frame)\n",
    "    polyroad_visualizer_elements = get_polyroad_visualizer_elements(polyroad_visualizer_dict)\n",
    "    trajectories = polyroad_visualizer_elements[\"trajectory\"]\n",
    "    points = polyroad_visualizer_elements[\"points\"]\n",
    "    agent_polygons = polyroad_visualizer_elements[\"agent_polygons\"]\n",
    "    ####\n",
    "\n",
    "    # If we're going to center the track id, then acknowlegde the xylimits\n",
    "\n",
    "    # N spokes\n",
    "    N = 8\n",
    "    distance = (2*np.pi)*(1/N)\n",
    "    starter = -np.pi # or (-1,0)\n",
    "    starter_vector = np.array([-1,0])\n",
    "    MAGNITUDE = 50\n",
    "    ####\n",
    "    rotation_matrix = get_rotation_matrix(distance).T\n",
    "    # counter clockwise by being transpose of the regular rotation_matrix\n",
    "    wheel_matrix = []\n",
    "    for i in range(N):\n",
    "        wheel_matrix.append(starter_vector)\n",
    "        starter_vector = starter_vector @ rotation_matrix\n",
    "    wheel_matrix = np.matrix(wheel_matrix)\n",
    "    wheel_matrix *= MAGNITUDE\n",
    "    #######\n",
    "    wheel_matrix2_orig =  wheel_matrix @ get_rotation_matrix(np.pi/(N))\n",
    "    #wheel_matrix2 = [[(0,0),tuple(x)] for x in wheel_matrix2_orig.tolist()]\n",
    "    wheel_matrix2 = finalize_wheel_matrix(wheel_matrix2_orig)\n",
    "    ######\n",
    "    slicing_results_dict = get_slicing_results_dict(N,wheel_matrix2,agents_temp_frame)\n",
    "    return slicing_results_dict\n",
    "def data_inspect_NO_VISUALS(scene_frame_agents_df,frame_index_temp):\n",
    "    #frame_index_temp = 948707 #frame_index_set[5308]\n",
    "\n",
    "    temp_df = scene_frame_agents_df\n",
    "    agents_temp_frame = temp_df[temp_df[\"frame_index\"]==frame_index_temp]\n",
    "    # N spokes\n",
    "    N = 8\n",
    "    distance = (2*np.pi)*(1/N)\n",
    "    starter = -np.pi # or (-1,0)\n",
    "    starter_vector = np.array([-1,0])\n",
    "    MAGNITUDE = 50\n",
    "    ####\n",
    "    rotation_matrix = get_rotation_matrix(distance).T\n",
    "    # counter clockwise by being transpose of the regular rotation_matrix\n",
    "    wheel_matrix = []\n",
    "    for i in range(N):\n",
    "        wheel_matrix.append(starter_vector)\n",
    "        starter_vector = starter_vector @ rotation_matrix\n",
    "    wheel_matrix = np.matrix(wheel_matrix)\n",
    "    wheel_matrix *= MAGNITUDE\n",
    "    #######\n",
    "    wheel_matrix2_orig =  wheel_matrix @ get_rotation_matrix(np.pi/(N))\n",
    "    #wheel_matrix2 = [[(0,0),tuple(x)] for x in wheel_matrix2_orig.tolist()]\n",
    "    wheel_matrix2 = finalize_wheel_matrix(wheel_matrix2_orig)\n",
    "    ######\n",
    "    slicing_results_dict = get_slicing_results_dict_NO_VISUALS(N,wheel_matrix2,agents_temp_frame)\n",
    "    return slicing_results_dict"
   ]
  },
  {
   "cell_type": "markdown",
   "metadata": {},
   "source": [
    "frame_index_set = pd.unique(agents_df[\"frame_index\"])\n",
    "frame_index_temp = 948707 #frame_index_set[5308]\n",
    "\n",
    "temp_df = agents_df\n",
    "temp_df = scene_frame_agents_df\n",
    "agents_temp_frame = temp_df[temp_df[\"frame_index\"]==frame_index_temp]\n",
    "####\n",
    "possible_entity_types_ohe = categ_colorizer(agents_temp_frame)\n",
    "####\n",
    "polyroad_visualizer_dict = get_polyroad_visualizer_dict(agents_temp_frame)\n",
    "polyroad_visualizer_elements = get_polyroad_visualizer_elements(polyroad_visualizer_dict)\n",
    "trajectories = polyroad_visualizer_elements[\"trajectory\"]\n",
    "points = polyroad_visualizer_elements[\"points\"]\n",
    "agent_polygons = polyroad_visualizer_elements[\"agent_polygons\"]\n",
    "####\n",
    "\n",
    "#If we're going to center the track id, then acknowlegde the xylimits\n",
    "\n",
    "#N spokes\n",
    "N = 8\n",
    "distance = (2*np.pi)*(1/N)\n",
    "starter = -np.pi # or (-1,0)\n",
    "starter_vector = np.array([-1,0])\n",
    "MAGNITUDE = 50\n",
    "####\n",
    "rotation_matrix = get_rotation_matrix(distance).T\n",
    "#counter clockwise by being transpose of the regular rotation_matrix\n",
    "wheel_matrix = []\n",
    "for i in range(N):\n",
    "    wheel_matrix.append(starter_vector)\n",
    "    starter_vector = starter_vector @ rotation_matrix\n",
    "wheel_matrix = np.matrix(wheel_matrix)\n",
    "\n",
    "wheel_matrix *= MAGNITUDE\n",
    "#######\n",
    "\n",
    "wheel_matrix2_orig =  wheel_matrix @ get_rotation_matrix(np.pi/(N))\n",
    "#wheel_matrix2 = [[(0,0),tuple(x)] for x in wheel_matrix2_orig.tolist()]\n",
    "wheel_matrix2 = finalize_wheel_matrix(wheel_matrix2_orig)\n",
    "######\n",
    "\n",
    "slice_amount = N\n",
    "slicing_results_dict = get_slicing_results_dict(slice_amount,wheel_matrix2,agents_temp_frame)"
   ]
  },
  {
   "cell_type": "code",
   "execution_count": 120,
   "metadata": {},
   "outputs": [
    {
     "data": {
      "text/plain": [
       "{'angle_groups': [0, 1, 2, 3, 4, 5, 6, 7],\n",
       " 'current_spoke_vectors': [[(1960.889404296875, 1410.41650390625),\n",
       "   (1912.2941211740745, 1398.6479671146662)],\n",
       "  [(1960.889404296875, 1410.41650390625),\n",
       "   (1934.8489622370348, 1367.7328375064653)],\n",
       "  [(1960.889404296875, 1410.41650390625),\n",
       "   (1972.6579410884588, 1361.8212207834495)],\n",
       "  [(1960.889404296875, 1410.41650390625),\n",
       "   (2003.5730706966597, 1384.3760618464098)],\n",
       "  [(1960.889404296875, 1410.41650390625),\n",
       "   (2009.4846874196755, 1422.1850406978338)],\n",
       "  [(1960.889404296875, 1410.41650390625),\n",
       "   (1986.9298463567152, 1453.1001703060347)],\n",
       "  [(1960.889404296875, 1410.41650390625),\n",
       "   (1949.1208675052912, 1459.0117870290505)],\n",
       "  [(1960.889404296875, 1410.41650390625),\n",
       "   (1918.2057378970903, 1436.4569459660902)]],\n",
       " 'central_spoke_vectors': [array([1231.48999397, 2023.98550799]),\n",
       "  array([1264.1586579 , 2004.05501649]),\n",
       "  array([1301.35187738, 2013.0622646 ]),\n",
       "  array([1321.28236888, 2045.73092853]),\n",
       "  array([1312.27512077, 2082.92414801]),\n",
       "  array([1279.60645684, 2102.85463951]),\n",
       "  array([1242.41323736, 2093.8473914 ]),\n",
       "  array([1222.48274586, 2061.17872747])],\n",
       " 'verts': [[(1912.2941211740745, 1398.6479671146662),\n",
       "   (1960.889404296875, 1410.41650390625),\n",
       "   (1934.8489622370348, 1367.7328375064653),\n",
       "   (1912.2941211740745, 1398.6479671146662)],\n",
       "  [(1934.8489622370348, 1367.7328375064653),\n",
       "   (1960.889404296875, 1410.41650390625),\n",
       "   (1972.6579410884588, 1361.8212207834495),\n",
       "   (1934.8489622370348, 1367.7328375064653)],\n",
       "  [(1972.6579410884588, 1361.8212207834495),\n",
       "   (1960.889404296875, 1410.41650390625),\n",
       "   (2003.5730706966597, 1384.3760618464098),\n",
       "   (1972.6579410884588, 1361.8212207834495)],\n",
       "  [(2003.5730706966597, 1384.3760618464098),\n",
       "   (1960.889404296875, 1410.41650390625),\n",
       "   (2009.4846874196755, 1422.1850406978338),\n",
       "   (2003.5730706966597, 1384.3760618464098)],\n",
       "  [(2009.4846874196755, 1422.1850406978338),\n",
       "   (1960.889404296875, 1410.41650390625),\n",
       "   (1986.9298463567152, 1453.1001703060347),\n",
       "   (2009.4846874196755, 1422.1850406978338)],\n",
       "  [(1986.9298463567152, 1453.1001703060347),\n",
       "   (1960.889404296875, 1410.41650390625),\n",
       "   (1949.1208675052912, 1459.0117870290505),\n",
       "   (1986.9298463567152, 1453.1001703060347)],\n",
       "  [(1949.1208675052912, 1459.0117870290505),\n",
       "   (1960.889404296875, 1410.41650390625),\n",
       "   (1918.2057378970903, 1436.4569459660902),\n",
       "   (1949.1208675052912, 1459.0117870290505)],\n",
       "  [(1918.2057378970903, 1436.4569459660902),\n",
       "   (1960.889404296875, 1410.41650390625),\n",
       "   (1912.2941211740745, 1398.6479671146662),\n",
       "   (1918.2057378970903, 1436.4569459660902)]],\n",
       " 'codes': [[1, 2, 2, 79],\n",
       "  [1, 2, 2, 79],\n",
       "  [1, 2, 2, 79],\n",
       "  [1, 2, 2, 79],\n",
       "  [1, 2, 2, 79],\n",
       "  [1, 2, 2, 79],\n",
       "  [1, 2, 2, 79],\n",
       "  [1, 2, 2, 79]],\n",
       " 'pathObjs': [Path(array([[1912.29412117, 1398.64796711],\n",
       "         [1960.8894043 , 1410.41650391],\n",
       "         [1934.84896224, 1367.73283751],\n",
       "         [1912.29412117, 1398.64796711]]), array([ 1,  2,  2, 79], dtype=uint8)),\n",
       "  Path(array([[1934.84896224, 1367.73283751],\n",
       "         [1960.8894043 , 1410.41650391],\n",
       "         [1972.65794109, 1361.82122078],\n",
       "         [1934.84896224, 1367.73283751]]), array([ 1,  2,  2, 79], dtype=uint8)),\n",
       "  Path(array([[1972.65794109, 1361.82122078],\n",
       "         [1960.8894043 , 1410.41650391],\n",
       "         [2003.5730707 , 1384.37606185],\n",
       "         [1972.65794109, 1361.82122078]]), array([ 1,  2,  2, 79], dtype=uint8)),\n",
       "  Path(array([[2003.5730707 , 1384.37606185],\n",
       "         [1960.8894043 , 1410.41650391],\n",
       "         [2009.48468742, 1422.1850407 ],\n",
       "         [2003.5730707 , 1384.37606185]]), array([ 1,  2,  2, 79], dtype=uint8)),\n",
       "  Path(array([[2009.48468742, 1422.1850407 ],\n",
       "         [1960.8894043 , 1410.41650391],\n",
       "         [1986.92984636, 1453.10017031],\n",
       "         [2009.48468742, 1422.1850407 ]]), array([ 1,  2,  2, 79], dtype=uint8)),\n",
       "  Path(array([[1986.92984636, 1453.10017031],\n",
       "         [1960.8894043 , 1410.41650391],\n",
       "         [1949.12086751, 1459.01178703],\n",
       "         [1986.92984636, 1453.10017031]]), array([ 1,  2,  2, 79], dtype=uint8)),\n",
       "  Path(array([[1949.12086751, 1459.01178703],\n",
       "         [1960.8894043 , 1410.41650391],\n",
       "         [1918.2057379 , 1436.45694597],\n",
       "         [1949.12086751, 1459.01178703]]), array([ 1,  2,  2, 79], dtype=uint8)),\n",
       "  Path(array([[1918.2057379 , 1436.45694597],\n",
       "         [1960.8894043 , 1410.41650391],\n",
       "         [1912.29412117, 1398.64796711],\n",
       "         [1918.2057379 , 1436.45694597]]), array([ 1,  2,  2, 79], dtype=uint8))],\n",
       " 'alternating_colors': [(1, 0, 1, 0.7997715967127433),\n",
       "  (1, 0, 1, 0.5),\n",
       "  (1, 0, 1, 0.7487741197172422),\n",
       "  (1, 0, 1, 0.47635951539462035),\n",
       "  (1, 0, 1, 0.7362264131033274),\n",
       "  (1, 0, 1, 0.664365984735628),\n",
       "  (1, 0, 1, 0.3220079053167601),\n",
       "  (1, 0, 1, 0.4994676824272378)],\n",
       " 'sliceAverageDotProducts': [0.5995431934254867,\n",
       "  0.0,\n",
       "  0.49754823943448445,\n",
       "  -0.04728096921075935,\n",
       "  0.4724528262066547,\n",
       "  0.32873196947125594,\n",
       "  -0.3559841893664798,\n",
       "  -0.0010646351455243983]}"
      ]
     },
     "execution_count": 120,
     "metadata": {},
     "output_type": "execute_result"
    }
   ],
   "source": [
    "data_inspect(scene_frame_agents_df,948707)"
   ]
  },
  {
   "cell_type": "code",
   "execution_count": 107,
   "metadata": {},
   "outputs": [
    {
     "data": {
      "text/plain": [
       "Text(0.5, 1.0, 'Frame Index: 948707')"
      ]
     },
     "execution_count": 107,
     "metadata": {},
     "output_type": "execute_result"
    },
    {
     "data": {
      "image/png": "[encoded data removed]",
      "text/plain": [
       "<Figure size 1080x1080 with 1 Axes>"
      ]
     },
     "metadata": {
      "needs_background": "light"
     },
     "output_type": "display_data"
    }
   ],
   "source": [
    "wheel_matrix1 = finalize_wheel_matrix(wheel_matrix)\n",
    "trajectories+=wheel_matrix1\n",
    "\n",
    "xlim_lower,xlim_upper,ylim_lower,ylim_upper=visualization_dimensions(agents_temp_frame)\n",
    "\n",
    "# Inputs are \n",
    "\n",
    "# agents_temp_frame, agents_temp_frame_results\n",
    "# trajectories, points, agent_polygons\n",
    "\n",
    "# limits\n",
    "# possible_entity_types_ohe\n",
    "\n",
    "# Actual_roadmap_arr\n",
    "\n",
    "fig, ax = plt.subplots(1,1,figsize=(15,15))\n",
    "\n",
    "# anchor limit\n",
    "ax.set_xlim(xlim_lower,xlim_upper)\n",
    "ax.set_ylim(ylim_lower,ylim_upper)\n",
    "\n",
    "# crosswalks\n",
    "for i in pd.unique(cw_df.cw_id): plot_cw(cw_df,i,ax)\n",
    "\n",
    "# adding the \"wheel matrix\"\n",
    "\n",
    "lc = mc.LineCollection(trajectories, colors=\"orange\", linewidths=1)\n",
    "ax.add_collection(lc)\n",
    "\n",
    "ax.scatter(points[:,0],points[:,1],s=0.1,c=points[:,2],alpha=0.5)\n",
    "\n",
    "coll = PolyCollection(agent_polygons, fc=possible_entity_types_ohe,edgecolors='none')\n",
    "ax.add_collection(coll)\n",
    "\n",
    "# lets see\n",
    "path_slices = slicing_results_dict[\"pathObjs\"]\n",
    "path_colors = slicing_results_dict[\"alternating_colors\"]\n",
    "pathcoll = mc.PathCollection(path_slices, fc=path_colors,edgecolors='none')\n",
    "ax.add_collection(pathcoll)\n",
    "\n",
    "#ax.autoscale_view()\n",
    "#ax.grid(b=True, which='major') #<-- plot grid lines\n",
    "ax.imshow(Actual_roadmap_arr[::-1], cmap=\"gray\")\n",
    "ax.set_title(\"Frame Index: {0}\".format(str(frame_index_temp)))"
   ]
  },
  {
   "cell_type": "code",
   "execution_count": null,
   "metadata": {},
   "outputs": [],
   "source": []
  },
  {
   "cell_type": "code",
   "execution_count": null,
   "metadata": {},
   "outputs": [],
   "source": []
  },
  {
   "cell_type": "code",
   "execution_count": null,
   "metadata": {},
   "outputs": [],
   "source": []
  },
  {
   "cell_type": "code",
   "execution_count": null,
   "metadata": {},
   "outputs": [],
   "source": []
  },
  {
   "cell_type": "code",
   "execution_count": 125,
   "metadata": {},
   "outputs": [],
   "source": [
    "assert (frame_df[\"frame_index\"].value_counts()==1).all()"
   ]
  },
  {
   "cell_type": "code",
   "execution_count": 129,
   "metadata": {},
   "outputs": [
    {
     "name": "stdout",
     "output_type": "stream",
     "text": [
      "5 100\n",
      "10 100\n",
      "15 100\n",
      "20 100\n",
      "25 100\n",
      "30 100\n",
      "35 100\n",
      "40 100\n",
      "45 100\n",
      "50 100\n",
      "55 100\n",
      "60 100\n",
      "65 100\n",
      "70 100\n",
      "75 100\n",
      "80 100\n",
      "85 100\n",
      "90 100\n",
      "95 100\n",
      "100 100\n"
     ]
    }
   ],
   "source": [
    "scene_indices = []\n",
    "frame_indices = []\n",
    "angle_availabilities = []\n",
    "bad_scene_indices = []\n",
    "bad_frame_indices = []\n",
    "\n",
    "scene_index_set = pd.unique(scene_frame_agents_df[\"scene_index\"])\n",
    "scene_index_set_len = len(scene_index_set)\n",
    "for i in range(scene_index_set_len):\n",
    "    if ((i+1)%5==0): \n",
    "        print(i+1, scene_index_set_len)\n",
    "    scene_index = scene_index_set[i]\n",
    "    for frame_index in pd.unique(scene_frame_agents_df[scene_frame_agents_df[\"scene_index\"]==scene_index][\"frame_index\"]):\n",
    "        try:\n",
    "            slice_dict = data_inspect_NO_VISUALS(scene_frame_agents_df,frame_index)\n",
    "            angle_availability = slice_dict[\"sliceAverageDotProducts\"]\n",
    "            angle_availabilities.append(angle_availability)\n",
    "            scene_indices.append(scene_index)\n",
    "            frame_indices.append(frame_index)\n",
    "        except:\n",
    "            bad_scene_indices.append(scene_index)\n",
    "            bad_frame_indices.append(frame_index)"
   ]
  },
  {
   "cell_type": "code",
   "execution_count": 132,
   "metadata": {},
   "outputs": [
    {
     "data": {
      "text/plain": [
       "(303, 8)"
      ]
     },
     "execution_count": 132,
     "metadata": {},
     "output_type": "execute_result"
    }
   ],
   "source": [
    "np.array(angle_availabilities).shape"
   ]
  },
  {
   "cell_type": "code",
   "execution_count": null,
   "metadata": {},
   "outputs": [],
   "source": [
    "angle_availabilities_df = pd.DataFrame()\n",
    "angle_availabilities_df[\"scene_index\"] = scene_indices\n",
    "angle_availabilities_df[\"frame_index\"] = frame_indices\n",
    "angle_availabilities_df[\"angle_availabilities\"] = angle_availabilities\n"
   ]
  },
  {
   "cell_type": "code",
   "execution_count": 133,
   "metadata": {},
   "outputs": [
    {
     "data": {
      "text/html": [
       "<div>\n",
       "<style scoped>\n",
       "    .dataframe tbody tr th:only-of-type {\n",
       "        vertical-align: middle;\n",
       "    }\n",
       "\n",
       "    .dataframe tbody tr th {\n",
       "        vertical-align: top;\n",
       "    }\n",
       "\n",
       "    .dataframe thead th {\n",
       "        text-align: right;\n",
       "    }\n",
       "</style>\n",
       "<table border=\"1\" class=\"dataframe\">\n",
       "  <thead>\n",
       "    <tr style=\"text-align: right;\">\n",
       "      <th></th>\n",
       "      <th>frame_index</th>\n",
       "      <th>scene_index</th>\n",
       "    </tr>\n",
       "  </thead>\n",
       "  <tbody>\n",
       "    <tr>\n",
       "      <th>0</th>\n",
       "      <td>27814</td>\n",
       "      <td>112</td>\n",
       "    </tr>\n",
       "    <tr>\n",
       "      <th>54</th>\n",
       "      <td>27815</td>\n",
       "      <td>112</td>\n",
       "    </tr>\n",
       "    <tr>\n",
       "      <th>114</th>\n",
       "      <td>27816</td>\n",
       "      <td>112</td>\n",
       "    </tr>\n",
       "    <tr>\n",
       "      <th>176</th>\n",
       "      <td>27817</td>\n",
       "      <td>112</td>\n",
       "    </tr>\n",
       "    <tr>\n",
       "      <th>234</th>\n",
       "      <td>27818</td>\n",
       "      <td>112</td>\n",
       "    </tr>\n",
       "    <tr>\n",
       "      <th>...</th>\n",
       "      <td>...</td>\n",
       "      <td>...</td>\n",
       "    </tr>\n",
       "    <tr>\n",
       "      <th>1974712</th>\n",
       "      <td>3969521</td>\n",
       "      <td>15982</td>\n",
       "    </tr>\n",
       "    <tr>\n",
       "      <th>1974793</th>\n",
       "      <td>3969522</td>\n",
       "      <td>15982</td>\n",
       "    </tr>\n",
       "    <tr>\n",
       "      <th>1974871</th>\n",
       "      <td>3969523</td>\n",
       "      <td>15982</td>\n",
       "    </tr>\n",
       "    <tr>\n",
       "      <th>1974947</th>\n",
       "      <td>3969524</td>\n",
       "      <td>15982</td>\n",
       "    </tr>\n",
       "    <tr>\n",
       "      <th>1975014</th>\n",
       "      <td>3969525</td>\n",
       "      <td>15982</td>\n",
       "    </tr>\n",
       "  </tbody>\n",
       "</table>\n",
       "<p>24837 rows × 2 columns</p>\n",
       "</div>"
      ],
      "text/plain": [
       "         frame_index  scene_index\n",
       "0              27814          112\n",
       "54             27815          112\n",
       "114            27816          112\n",
       "176            27817          112\n",
       "234            27818          112\n",
       "...              ...          ...\n",
       "1974712      3969521        15982\n",
       "1974793      3969522        15982\n",
       "1974871      3969523        15982\n",
       "1974947      3969524        15982\n",
       "1975014      3969525        15982\n",
       "\n",
       "[24837 rows x 2 columns]"
      ]
     },
     "execution_count": 133,
     "metadata": {},
     "output_type": "execute_result"
    }
   ],
   "source": [
    "scene_frame_agents_df[[\"frame_index\",\"scene_index\"]].drop_duplicates()"
   ]
  },
  {
   "cell_type": "code",
   "execution_count": null,
   "metadata": {},
   "outputs": [],
   "source": []
  },
  {
   "cell_type": "code",
   "execution_count": null,
   "metadata": {},
   "outputs": [],
   "source": []
  },
  {
   "cell_type": "markdown",
   "metadata": {},
   "source": [
    "#### Data Inspection: Consistency Variation"
   ]
  },
  {
   "cell_type": "code",
   "execution_count": 144,
   "metadata": {},
   "outputs": [],
   "source": [
    "used_entity_types_column_names  = ['PERCEPTION_LABEL_UNKNOWN',\n",
    " 'PERCEPTION_LABEL_CAR',\n",
    " 'PERCEPTION_LABEL_CYCLIST',\n",
    " 'PERCEPTION_LABEL_PEDESTRIAN']"
   ]
  },
  {
   "cell_type": "code",
   "execution_count": 145,
   "metadata": {},
   "outputs": [],
   "source": [
    "consistency_column_names = []\n",
    "consistency_column_names += [\"extent_x\",\"extent_y\"]\n",
    "consistency_column_names += [\"length_width_ratio\"]\n",
    "consistency_column_names += [\"scene_index\",\"track_id\"]+[\"frame_index\"] # dont remove, is a dummy column for counting \n",
    "consistency_column_names += used_entity_types_column_names"
   ]
  },
  {
   "cell_type": "code",
   "execution_count": 146,
   "metadata": {},
   "outputs": [
    {
     "name": "stderr",
     "output_type": "stream",
     "text": [
      "c:\\users\\benson\\appdata\\local\\programs\\python\\python37\\lib\\site-packages\\ipykernel_launcher.py:2: SettingWithCopyWarning: \n",
      "A value is trying to be set on a copy of a slice from a DataFrame.\n",
      "Try using .loc[row_indexer,col_indexer] = value instead\n",
      "\n",
      "See the caveats in the documentation: https://pandas.pydata.org/pandas-docs/stable/user_guide/indexing.html#returning-a-view-versus-a-copy\n",
      "  \n"
     ]
    }
   ],
   "source": [
    "consistency_df = scene_frame_agents_df[consistency_column_names]\n",
    "consistency_df[\"length_width_ratio\"] = consistency_df[\"extent_x\"]/consistency_df[\"extent_y\"]"
   ]
  },
  {
   "cell_type": "code",
   "execution_count": null,
   "metadata": {},
   "outputs": [],
   "source": [
    "consistency_df[\"length_width_ratio\"] = consistency_df[\"extent_x\"]/consistency_df[\"extent_y\"]"
   ]
  },
  {
   "cell_type": "code",
   "execution_count": 147,
   "metadata": {},
   "outputs": [],
   "source": [
    "from scipy.stats import variation\n",
    "\n",
    "def variation(x): \n",
    "    xmean = x.mean()\n",
    "    xdivmean = xmean+(xmean==0)\n",
    "    xstd = np.nan_to_num(x.std(),0)\n",
    "    return xstd/xdivmean\n",
    "\n",
    "variation = [\"std\",\"mean\"]\n",
    "\n",
    "agg_consistency_column_names = []\n",
    "agg_consistency_column_names += [\"extent_x\",\"extent_y\"]\n",
    "agg_consistency_column_names += [\"length_width_ratio\"]\n",
    "agg_consistency_column_names += used_entity_types_column_names\n",
    "agg_dict_consistency = dict()\n",
    "agg_dict_consistency.update(dict(\n",
    "    [(column_name, variation) for column_name in agg_consistency_column_names]))\n",
    "agg_dict_consistency.update({\"frame_index\": \"count\"})"
   ]
  },
  {
   "cell_type": "code",
   "execution_count": 148,
   "metadata": {},
   "outputs": [],
   "source": [
    "consistency_groupby = (\n",
    "    (consistency_df\n",
    "    ).groupby([\"scene_index\",\"track_id\"]).agg(agg_dict_consistency)\n",
    ")\n",
    "consistency_groupby = consistency_groupby.fillna(0) # allowed; standard deviation of singleton arrays = 0"
   ]
  },
  {
   "cell_type": "code",
   "execution_count": 149,
   "metadata": {},
   "outputs": [],
   "source": [
    "consistency_groupby.columns = consistency_groupby.columns.to_flat_index()\n",
    "stdev_mean_columns = consistency_groupby.columns"
   ]
  },
  {
   "cell_type": "code",
   "execution_count": 150,
   "metadata": {
    "scrolled": false
   },
   "outputs": [],
   "source": [
    "for column_name in agg_consistency_column_names:\n",
    "    consistency_groupby[column_name] = (\n",
    "        (consistency_groupby[(column_name, 'std')].fillna(0)\n",
    "        )/(consistency_groupby[(column_name, 'mean')].replace(0, 1))\n",
    "    )"
   ]
  },
  {
   "cell_type": "code",
   "execution_count": 151,
   "metadata": {},
   "outputs": [],
   "source": [
    "consistency_groupby = consistency_groupby.drop(columns=stdev_mean_columns)"
   ]
  },
  {
   "cell_type": "code",
   "execution_count": 161,
   "metadata": {},
   "outputs": [
    {
     "name": "stdout",
     "output_type": "stream",
     "text": [
      "extent_x 0.9820745393100809\n",
      "extent_y 0.9887617165083211\n",
      "length_width_ratio 0.991352101001084\n",
      "PERCEPTION_LABEL_UNKNOWN 0.9823375629662692\n",
      "PERCEPTION_LABEL_CAR 0.9973777338519416\n",
      "PERCEPTION_LABEL_CYCLIST 0.9995536568258624\n",
      "PERCEPTION_LABEL_PEDESTRIAN 0.9984377988905184\n"
     ]
    },
    {
     "data": {
      "image/png": "[encoded data removed]",
      "text/plain": [
       "<Figure size 720x1800 with 7 Axes>"
      ]
     },
     "metadata": {
      "needs_background": "light"
     },
     "output_type": "display_data"
    }
   ],
   "source": [
    "fig, axes = plt.subplots(len(consistency_groupby.columns),1,figsize=(10,25))\n",
    "for i in range(len(consistency_groupby.columns)):\n",
    "    consistency_groupby_column_name = consistency_groupby.columns[i]\n",
    "    consistency_groupby.hist(consistency_groupby_column_name, ax=axes[i])\n",
    "    print(consistency_groupby_column_name, (consistency_groupby[consistency_groupby_column_name]<1).mean())\n",
    "\n",
    "plt.show()\n"
   ]
  },
  {
   "cell_type": "code",
   "execution_count": null,
   "metadata": {},
   "outputs": [],
   "source": []
  },
  {
   "cell_type": "code",
   "execution_count": null,
   "metadata": {},
   "outputs": [],
   "source": []
  },
  {
   "cell_type": "code",
   "execution_count": null,
   "metadata": {},
   "outputs": [],
   "source": []
  },
  {
   "cell_type": "code",
   "execution_count": null,
   "metadata": {},
   "outputs": [],
   "source": []
  },
  {
   "cell_type": "code",
   "execution_count": null,
   "metadata": {},
   "outputs": [],
   "source": []
  },
  {
   "cell_type": "code",
   "execution_count": null,
   "metadata": {},
   "outputs": [],
   "source": []
  },
  {
   "cell_type": "code",
   "execution_count": null,
   "metadata": {},
   "outputs": [],
   "source": []
  },
  {
   "cell_type": "code",
   "execution_count": null,
   "metadata": {},
   "outputs": [],
   "source": []
  },
  {
   "cell_type": "code",
   "execution_count": null,
   "metadata": {},
   "outputs": [],
   "source": []
  },
  {
   "cell_type": "code",
   "execution_count": null,
   "metadata": {},
   "outputs": [],
   "source": []
  },
  {
   "cell_type": "code",
   "execution_count": null,
   "metadata": {},
   "outputs": [],
   "source": []
  },
  {
   "cell_type": "code",
   "execution_count": null,
   "metadata": {},
   "outputs": [],
   "source": []
  },
  {
   "cell_type": "code",
   "execution_count": null,
   "metadata": {},
   "outputs": [],
   "source": []
  },
  {
   "cell_type": "code",
   "execution_count": null,
   "metadata": {},
   "outputs": [],
   "source": []
  },
  {
   "cell_type": "code",
   "execution_count": null,
   "metadata": {},
   "outputs": [],
   "source": []
  },
  {
   "cell_type": "code",
   "execution_count": null,
   "metadata": {},
   "outputs": [],
   "source": []
  },
  {
   "cell_type": "code",
   "execution_count": null,
   "metadata": {},
   "outputs": [],
   "source": [
    "# get rid of unused columns?\n",
    "# get rid of 18.5 long cars?\n",
    "# impute? (hard)\n",
    "# onroad only? (hard)"
   ]
  },
  {
   "cell_type": "code",
   "execution_count": 40,
   "metadata": {},
   "outputs": [],
   "source": [
    "entity_types_column_names = [ 'PERCEPTION_LABEL_NOT_SET', 'PERCEPTION_LABEL_UNKNOWN',\n",
    "       'PERCEPTION_LABEL_DONTCARE', 'PERCEPTION_LABEL_CAR',\n",
    "       'PERCEPTION_LABEL_VAN', 'PERCEPTION_LABEL_TRAM', 'PERCEPTION_LABEL_BUS',\n",
    "       'PERCEPTION_LABEL_TRUCK', 'PERCEPTION_LABEL_EMERGENCY_VEHICLE',\n",
    "       'PERCEPTION_LABEL_OTHER_VEHICLE', 'PERCEPTION_LABEL_BICYCLE',\n",
    "       'PERCEPTION_LABEL_MOTORCYCLE', 'PERCEPTION_LABEL_CYCLIST',\n",
    "       'PERCEPTION_LABEL_MOTORCYCLIST', 'PERCEPTION_LABEL_PEDESTRIAN',\n",
    "       'PERCEPTION_LABEL_ANIMAL', 'AVRESEARCH_LABEL_DONTCARE']\n",
    "\n",
    "used_entity_types_column_names = (agents_df[ohe_entity_types_column_names]!=0).mean()\n",
    "used_entity_types_column_names = list(used_entity_types_column_names[(used_entity_types_column_names!=0)].index)\n",
    "unused_entity_types_column_names = set(entity_types_column_names).difference(set(used_entity_types_column_names))"
   ]
  },
  {
   "cell_type": "code",
   "execution_count": 58,
   "metadata": {},
   "outputs": [],
   "source": [
    "agents_df = agents_df.drop(columns = unused_entity_types_column_names)"
   ]
  },
  {
   "cell_type": "code",
   "execution_count": 68,
   "metadata": {},
   "outputs": [
    {
     "data": {
      "text/plain": [
       "['PERCEPTION_LABEL_UNKNOWN',\n",
       " 'PERCEPTION_LABEL_CAR',\n",
       " 'PERCEPTION_LABEL_CYCLIST',\n",
       " 'PERCEPTION_LABEL_PEDESTRIAN']"
      ]
     },
     "execution_count": 68,
     "metadata": {},
     "output_type": "execute_result"
    }
   ],
   "source": [
    "used_entity_types_column_names"
   ]
  },
  {
   "cell_type": "code",
   "execution_count": 71,
   "metadata": {},
   "outputs": [],
   "source": [
    "temp_entity_categ_choices = []\n",
    "temp_entity_categ_choices += ['PERCEPTION_LABEL_CAR']\n",
    "temp_entity_categ_choices += ['PERCEPTION_LABEL_CYCLIST']"
   ]
  },
  {
   "cell_type": "code",
   "execution_count": 81,
   "metadata": {
    "scrolled": true
   },
   "outputs": [
    {
     "data": {
      "text/plain": [
       "(array([  28627,   28701,   28773,  125353,  127858,  717505,  717567,\n",
       "         764323, 1224419, 1224487, 1224558, 1282715, 1282777, 1282837,\n",
       "        1356766, 1356821, 1356877, 1463127, 1472329, 1559807, 1559884,\n",
       "        1559962, 1700489, 1700546, 1700603, 1945645], dtype=int64),)"
      ]
     },
     "execution_count": 81,
     "metadata": {},
     "output_type": "execute_result"
    }
   ],
   "source": [
    "np.where(agents_df[used_entity_types_column_names].median(axis=1)==0.25)"
   ]
  },
  {
   "cell_type": "code",
   "execution_count": 77,
   "metadata": {
    "scrolled": true
   },
   "outputs": [
    {
     "data": {
      "text/plain": [
       "False"
      ]
     },
     "execution_count": 77,
     "metadata": {},
     "output_type": "execute_result"
    }
   ],
   "source": [
    "((agents_df[temp_entity_categ_choices])>0.5).all(axis=1)"
   ]
  },
  {
   "cell_type": "code",
   "execution_count": 70,
   "metadata": {
    "collapsed": true
   },
   "outputs": [
    {
     "ename": "KeyError",
     "evalue": "()",
     "output_type": "error",
     "traceback": [
      "\u001b[1;31m---------------------------------------------------------------------------\u001b[0m",
      "\u001b[1;31mKeyError\u001b[0m                                  Traceback (most recent call last)",
      "\u001b[1;32mc:\\users\\benson\\appdata\\local\\programs\\python\\python37\\lib\\site-packages\\pandas\\core\\indexes\\base.py\u001b[0m in \u001b[0;36mget_loc\u001b[1;34m(self, key, method, tolerance)\u001b[0m\n\u001b[0;32m   3079\u001b[0m             \u001b[1;32mtry\u001b[0m\u001b[1;33m:\u001b[0m\u001b[1;33m\u001b[0m\u001b[1;33m\u001b[0m\u001b[0m\n\u001b[1;32m-> 3080\u001b[1;33m                 \u001b[1;32mreturn\u001b[0m \u001b[0mself\u001b[0m\u001b[1;33m.\u001b[0m\u001b[0m_engine\u001b[0m\u001b[1;33m.\u001b[0m\u001b[0mget_loc\u001b[0m\u001b[1;33m(\u001b[0m\u001b[0mcasted_key\u001b[0m\u001b[1;33m)\u001b[0m\u001b[1;33m\u001b[0m\u001b[1;33m\u001b[0m\u001b[0m\n\u001b[0m\u001b[0;32m   3081\u001b[0m             \u001b[1;32mexcept\u001b[0m \u001b[0mKeyError\u001b[0m \u001b[1;32mas\u001b[0m \u001b[0merr\u001b[0m\u001b[1;33m:\u001b[0m\u001b[1;33m\u001b[0m\u001b[1;33m\u001b[0m\u001b[0m\n",
      "\u001b[1;32mpandas\\_libs\\index.pyx\u001b[0m in \u001b[0;36mpandas._libs.index.IndexEngine.get_loc\u001b[1;34m()\u001b[0m\n",
      "\u001b[1;32mpandas\\_libs\\index.pyx\u001b[0m in \u001b[0;36mpandas._libs.index.IndexEngine.get_loc\u001b[1;34m()\u001b[0m\n",
      "\u001b[1;32mpandas\\_libs\\hashtable_class_helper.pxi\u001b[0m in \u001b[0;36mpandas._libs.hashtable.PyObjectHashTable.get_item\u001b[1;34m()\u001b[0m\n",
      "\u001b[1;32mpandas\\_libs\\hashtable_class_helper.pxi\u001b[0m in \u001b[0;36mpandas._libs.hashtable.PyObjectHashTable.get_item\u001b[1;34m()\u001b[0m\n",
      "\u001b[1;31mKeyError\u001b[0m: ()",
      "\nThe above exception was the direct cause of the following exception:\n",
      "\u001b[1;31mKeyError\u001b[0m                                  Traceback (most recent call last)",
      "\u001b[1;32m<ipython-input-70-2efc0831f052>\u001b[0m in \u001b[0;36m<module>\u001b[1;34m\u001b[0m\n\u001b[0;32m      5\u001b[0m \u001b[1;31m#temp_entity_categ_choices += ['PERCEPTION_LABEL_UNKNOWN']\u001b[0m\u001b[1;33m\u001b[0m\u001b[1;33m\u001b[0m\u001b[1;33m\u001b[0m\u001b[0m\n\u001b[0;32m      6\u001b[0m \u001b[1;33m\u001b[0m\u001b[0m\n\u001b[1;32m----> 7\u001b[1;33m \u001b[0magents_df_temp_entity_categ\u001b[0m \u001b[1;33m=\u001b[0m \u001b[0magents_df\u001b[0m\u001b[1;33m[\u001b[0m\u001b[1;33m(\u001b[0m\u001b[1;33m)\u001b[0m\u001b[1;33m]\u001b[0m\u001b[1;33m\u001b[0m\u001b[1;33m\u001b[0m\u001b[0m\n\u001b[0m\u001b[0;32m      8\u001b[0m \u001b[1;33m\u001b[0m\u001b[0m\n\u001b[0;32m      9\u001b[0m \u001b[0mprint\u001b[0m\u001b[1;33m(\u001b[0m\u001b[0magents_df_temp_entity_categ\u001b[0m\u001b[1;33m[\u001b[0m\u001b[1;34m\"extent_x\"\u001b[0m\u001b[1;33m]\u001b[0m\u001b[1;33m.\u001b[0m\u001b[0mmedian\u001b[0m\u001b[1;33m(\u001b[0m\u001b[1;33m)\u001b[0m\u001b[1;33m)\u001b[0m \u001b[1;31m# the x is the car length\u001b[0m\u001b[1;33m\u001b[0m\u001b[1;33m\u001b[0m\u001b[0m\n",
      "\u001b[1;32mc:\\users\\benson\\appdata\\local\\programs\\python\\python37\\lib\\site-packages\\pandas\\core\\frame.py\u001b[0m in \u001b[0;36m__getitem__\u001b[1;34m(self, key)\u001b[0m\n\u001b[0;32m   3022\u001b[0m             \u001b[1;32mif\u001b[0m \u001b[0mself\u001b[0m\u001b[1;33m.\u001b[0m\u001b[0mcolumns\u001b[0m\u001b[1;33m.\u001b[0m\u001b[0mnlevels\u001b[0m \u001b[1;33m>\u001b[0m \u001b[1;36m1\u001b[0m\u001b[1;33m:\u001b[0m\u001b[1;33m\u001b[0m\u001b[1;33m\u001b[0m\u001b[0m\n\u001b[0;32m   3023\u001b[0m                 \u001b[1;32mreturn\u001b[0m \u001b[0mself\u001b[0m\u001b[1;33m.\u001b[0m\u001b[0m_getitem_multilevel\u001b[0m\u001b[1;33m(\u001b[0m\u001b[0mkey\u001b[0m\u001b[1;33m)\u001b[0m\u001b[1;33m\u001b[0m\u001b[1;33m\u001b[0m\u001b[0m\n\u001b[1;32m-> 3024\u001b[1;33m             \u001b[0mindexer\u001b[0m \u001b[1;33m=\u001b[0m \u001b[0mself\u001b[0m\u001b[1;33m.\u001b[0m\u001b[0mcolumns\u001b[0m\u001b[1;33m.\u001b[0m\u001b[0mget_loc\u001b[0m\u001b[1;33m(\u001b[0m\u001b[0mkey\u001b[0m\u001b[1;33m)\u001b[0m\u001b[1;33m\u001b[0m\u001b[1;33m\u001b[0m\u001b[0m\n\u001b[0m\u001b[0;32m   3025\u001b[0m             \u001b[1;32mif\u001b[0m \u001b[0mis_integer\u001b[0m\u001b[1;33m(\u001b[0m\u001b[0mindexer\u001b[0m\u001b[1;33m)\u001b[0m\u001b[1;33m:\u001b[0m\u001b[1;33m\u001b[0m\u001b[1;33m\u001b[0m\u001b[0m\n\u001b[0;32m   3026\u001b[0m                 \u001b[0mindexer\u001b[0m \u001b[1;33m=\u001b[0m \u001b[1;33m[\u001b[0m\u001b[0mindexer\u001b[0m\u001b[1;33m]\u001b[0m\u001b[1;33m\u001b[0m\u001b[1;33m\u001b[0m\u001b[0m\n",
      "\u001b[1;32mc:\\users\\benson\\appdata\\local\\programs\\python\\python37\\lib\\site-packages\\pandas\\core\\indexes\\base.py\u001b[0m in \u001b[0;36mget_loc\u001b[1;34m(self, key, method, tolerance)\u001b[0m\n\u001b[0;32m   3080\u001b[0m                 \u001b[1;32mreturn\u001b[0m \u001b[0mself\u001b[0m\u001b[1;33m.\u001b[0m\u001b[0m_engine\u001b[0m\u001b[1;33m.\u001b[0m\u001b[0mget_loc\u001b[0m\u001b[1;33m(\u001b[0m\u001b[0mcasted_key\u001b[0m\u001b[1;33m)\u001b[0m\u001b[1;33m\u001b[0m\u001b[1;33m\u001b[0m\u001b[0m\n\u001b[0;32m   3081\u001b[0m             \u001b[1;32mexcept\u001b[0m \u001b[0mKeyError\u001b[0m \u001b[1;32mas\u001b[0m \u001b[0merr\u001b[0m\u001b[1;33m:\u001b[0m\u001b[1;33m\u001b[0m\u001b[1;33m\u001b[0m\u001b[0m\n\u001b[1;32m-> 3082\u001b[1;33m                 \u001b[1;32mraise\u001b[0m \u001b[0mKeyError\u001b[0m\u001b[1;33m(\u001b[0m\u001b[0mkey\u001b[0m\u001b[1;33m)\u001b[0m \u001b[1;32mfrom\u001b[0m \u001b[0merr\u001b[0m\u001b[1;33m\u001b[0m\u001b[1;33m\u001b[0m\u001b[0m\n\u001b[0m\u001b[0;32m   3083\u001b[0m \u001b[1;33m\u001b[0m\u001b[0m\n\u001b[0;32m   3084\u001b[0m         \u001b[1;32mif\u001b[0m \u001b[0mtolerance\u001b[0m \u001b[1;32mis\u001b[0m \u001b[1;32mnot\u001b[0m \u001b[1;32mNone\u001b[0m\u001b[1;33m:\u001b[0m\u001b[1;33m\u001b[0m\u001b[1;33m\u001b[0m\u001b[0m\n",
      "\u001b[1;31mKeyError\u001b[0m: ()"
     ]
    }
   ],
   "source": [
    "temp_entity_categ_choices = []\n",
    "temp_entity_categ_choices += ['PERCEPTION_LABEL_CAR']\n",
    "temp_entity_categ_choices += ['PERCEPTION_LABEL_CYCLIST']\n",
    "#temp_entity_categ_choices += ['PERCEPTION_LABEL_PEDESTRIAN']\n",
    "#temp_entity_categ_choices += ['PERCEPTION_LABEL_UNKNOWN']\n",
    "\n",
    "agents_df_temp_entity_categ = agents_df[()]\n",
    "\n",
    "print(agents_df_temp_entity_categ[\"extent_x\"].median()) # the x is the car length\n",
    "print(agents_df_temp_entity_categ[\"extent_y\"].median())\n",
    "fig, axes = plt.subplots(1, 2)\n",
    "\n",
    "agents_df_temp_entity_categ.hist(\"extent_x\", ax=axes[0])\n",
    "agents_df_temp_entity_categ.hist(\"extent_y\", ax=axes[1])\n",
    "\n",
    "plt.show()"
   ]
  },
  {
   "cell_type": "code",
   "execution_count": 60,
   "metadata": {},
   "outputs": [],
   "source": [
    "# https://ops.fhwa.dot.gov/Freight/publications/size_regs_final_rpt/\n",
    "# max length allowed is 22.86 meters\n",
    "# max width allowed is 2.44 meters"
   ]
  },
  {
   "cell_type": "code",
   "execution_count": 61,
   "metadata": {},
   "outputs": [],
   "source": [
    "MAX_VEHICULAR_LENGTH_METERS = 22.86\n",
    "MAX_VEHICULAR_WIDTH_METERS = 2.44"
   ]
  },
  {
   "cell_type": "code",
   "execution_count": 62,
   "metadata": {},
   "outputs": [],
   "source": [
    "agents_df_filtered_index = []\n",
    "agents_df_filtered_booleans = 1\n",
    "agents_df_filtered_booleans &= (agents_df[\"PERCEPTION_LABEL_CAR\"] != 0)\n",
    "agents_df_filtered_booleans &= ((agents_df[\"extent_x\"]> MAX_VEHICULAR_LENGTH_METERS) | (agents_df[\"extent_y\"]> MAX_VEHICULAR_WIDTH_METERS))"
   ]
  },
  {
   "cell_type": "code",
   "execution_count": 66,
   "metadata": {},
   "outputs": [],
   "source": [
    "agents_df_cars = agents_df[(agents_df[\"PERCEPTION_LABEL_CAR\"] != 0)]"
   ]
  },
  {
   "cell_type": "code",
   "execution_count": 67,
   "metadata": {},
   "outputs": [],
   "source": [
    "agents_df_cars = agents_df[(agents_df[\"PERCEPTION_LABEL_CAR\"] != 0)]"
   ]
  },
  {
   "cell_type": "code",
   "execution_count": null,
   "metadata": {},
   "outputs": [],
   "source": []
  },
  {
   "cell_type": "code",
   "execution_count": null,
   "metadata": {},
   "outputs": [],
   "source": [
    "unused_agents_df_column_names = "
   ]
  },
  {
   "cell_type": "code",
   "execution_count": null,
   "metadata": {},
   "outputs": [],
   "source": [
    "agents_df = agents_df.drop(unused_entity_types_column_names)"
   ]
  },
  {
   "cell_type": "code",
   "execution_count": 29,
   "metadata": {},
   "outputs": [
    {
     "data": {
      "text/plain": [
       "PERCEPTION_LABEL_UNKNOWN       0.662394\n",
       "PERCEPTION_LABEL_CAR           0.309705\n",
       "PERCEPTION_LABEL_CYCLIST       0.006788\n",
       "PERCEPTION_LABEL_PEDESTRIAN    0.025789\n",
       "dtype: float64"
      ]
     },
     "execution_count": 29,
     "metadata": {},
     "output_type": "execute_result"
    }
   ],
   "source": [
    "used_entity_types_column_names"
   ]
  },
  {
   "cell_type": "code",
   "execution_count": 11,
   "metadata": {},
   "outputs": [
    {
     "data": {
      "text/plain": [
       "(array([1.792208e+06, 1.326200e+05, 1.626000e+04, 5.839000e+03,\n",
       "        2.347000e+03, 8.600000e+02, 8.500000e+01, 1.000000e+01,\n",
       "        4.000000e+00, 1.000000e+01]),\n",
       " array([1.74091465e-03, 4.49596570e+00, 8.99019049e+00, 1.34844153e+01,\n",
       "        1.79786401e+01, 2.24728649e+01, 2.69670896e+01, 3.14613144e+01,\n",
       "        3.59555392e+01, 4.04497640e+01, 4.49439888e+01]),\n",
       " <a list of 10 Patch objects>)"
      ]
     },
     "execution_count": 11,
     "metadata": {},
     "output_type": "execute_result"
    },
    {
     "data": {
      "image/png": "[encoded data removed]",
      "text/plain": [
       "<Figure size 432x288 with 1 Axes>"
      ]
     },
     "metadata": {
      "needs_background": "light"
     },
     "output_type": "display_data"
    }
   ],
   "source": [
    "plt.hist(agents_df[\"extent_x\"])"
   ]
  },
  {
   "cell_type": "code",
   "execution_count": 12,
   "metadata": {},
   "outputs": [
    {
     "data": {
      "text/plain": [
       "(array([1.840819e+06, 7.257300e+04, 1.742700e+04, 8.045000e+03,\n",
       "        4.320000e+03, 3.476000e+03, 2.201000e+03, 1.294000e+03,\n",
       "        5.400000e+01, 3.400000e+01]),\n",
       " array([1.47290656e-03, 3.36376763e+00, 6.72606236e+00, 1.00883571e+01,\n",
       "        1.34506518e+01, 1.68129465e+01, 2.01752413e+01, 2.35375360e+01,\n",
       "        2.68998307e+01, 3.02621254e+01, 3.36244202e+01]),\n",
       " <a list of 10 Patch objects>)"
      ]
     },
     "execution_count": 12,
     "metadata": {},
     "output_type": "execute_result"
    },
    {
     "data": {
      "image/png": "[encoded data removed]",
      "text/plain": [
       "<Figure size 432x288 with 1 Axes>"
      ]
     },
     "metadata": {
      "needs_background": "light"
     },
     "output_type": "display_data"
    }
   ],
   "source": [
    "plt.hist(agents_df[\"extent_y\"])"
   ]
  },
  {
   "cell_type": "code",
   "execution_count": null,
   "metadata": {},
   "outputs": [],
   "source": []
  }
 ],
 "metadata": {
  "kernelspec": {
   "display_name": "Python 3",
   "language": "python",
   "name": "python3"
  },
  "language_info": {
   "codemirror_mode": {
    "name": "ipython",
    "version": 3
   },
   "file_extension": ".py",
   "mimetype": "text/x-python",
   "name": "python",
   "nbconvert_exporter": "python",
   "pygments_lexer": "ipython3",
   "version": "3.7.4"
  }
 },
 "nbformat": 4,
 "nbformat_minor": 2
}
